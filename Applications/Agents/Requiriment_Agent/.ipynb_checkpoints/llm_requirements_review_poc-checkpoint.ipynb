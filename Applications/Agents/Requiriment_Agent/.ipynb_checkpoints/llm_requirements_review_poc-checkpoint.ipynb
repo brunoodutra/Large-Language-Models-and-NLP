{
 "cells": [
  {
   "cell_type": "markdown",
   "id": "a88994cb-d90c-49ab-9f06-ee9bb35c7520",
   "metadata": {},
   "source": [
    "### Libraries"
   ]
  },
  {
   "cell_type": "code",
   "execution_count": null,
   "id": "34abdbf4-9d0f-4497-a370-c396715b001c",
   "metadata": {},
   "outputs": [],
   "source": [
    "import pandas as pd\n",
    "import os, sys "
   ]
  },
  {
   "cell_type": "code",
   "execution_count": 2,
   "id": "50aa75e9-c47f-428c-8a7f-f29e5d0fd925",
   "metadata": {},
   "outputs": [],
   "source": [
    "from langchain_ollama.llms import OllamaLLM\n",
    "from langchain.llms import HuggingFacePipeline\n",
    "from langchain.embeddings import HuggingFaceEmbeddings\n",
    "from langchain.vectorstores import Chroma\n",
    "from langchain.docstore.document import Document\n",
    "\n",
    "from langchain_community.embeddings.ollama import OllamaEmbeddings\n",
    "\n",
    "from langchain.memory import ConversationBufferMemory\n",
    "from langchain.chains import RetrievalQA\n",
    "from langchain_core.prompts import PromptTemplate"
   ]
  },
  {
   "cell_type": "code",
   "execution_count": 3,
   "id": "e79c954b-d7b4-4eb9-9c48-2f9aded65efe",
   "metadata": {},
   "outputs": [],
   "source": [
    "from langchain.embeddings import OllamaEmbeddings\n",
    "from langchain.vectorstores import FAISS"
   ]
  },
  {
   "cell_type": "markdown",
   "id": "a54eb820-09ad-41a3-b214-6c639ae09453",
   "metadata": {},
   "source": [
    "### Load  requirements"
   ]
  },
  {
   "cell_type": "code",
   "execution_count": 4,
   "id": "3263fcf6-c38a-4412-80ef-2c74014e611f",
   "metadata": {},
   "outputs": [
    {
     "name": "stderr",
     "output_type": "stream",
     "text": [
      "/opt/conda/lib/python3.8/site-packages/openpyxl/worksheet/_reader.py:329: UserWarning: Data Validation extension is not supported and will be removed\n",
      "  warn(msg)\n"
     ]
    }
   ],
   "source": [
    "# Carregar o arquivo Excel\n",
    "file_path = \"Template - Requisito de Software v02.xlsx\"\n",
    "xls = pd.ExcelFile(file_path)\n",
    "\n",
    "# Carregar abas específicas\n",
    "sobre_documento = pd.read_excel(xls, sheet_name=\"Sobre o documento\")\n",
    "glossario = pd.read_excel(xls, sheet_name=\"1-Glossário\")\n",
    "requisitos = pd.read_excel(xls, sheet_name='2-Requisitos de Produto', skiprows= len(xls.sheet_names)+1)\n",
    "lists = pd.read_excel(xls, sheet_name=\"3-Lists\")\n",
    "versoes = pd.read_excel(xls, sheet_name=\"4-Versões\")\n",
    "guia = pd.read_excel(xls, sheet_name=\"5-Guia\")\n",
    "\n",
    "requisitos= requisitos.dropna(subset=['Requisito','Categoria'])\n",
    "# Exibir as primeiras linhas da aba de requisitos\n",
    "#print(requisitos.head())\n",
    "\n",
    "requisitos_texto = requisitos.to_string(index=False)"
   ]
  },
  {
   "cell_type": "code",
   "execution_count": 5,
   "id": "48486dfa-141d-40e9-94c7-9bbc93e7ad5f",
   "metadata": {},
   "outputs": [
    {
     "data": {
      "text/html": [
       "<div>\n",
       "<style scoped>\n",
       "    .dataframe tbody tr th:only-of-type {\n",
       "        vertical-align: middle;\n",
       "    }\n",
       "\n",
       "    .dataframe tbody tr th {\n",
       "        vertical-align: top;\n",
       "    }\n",
       "\n",
       "    .dataframe thead th {\n",
       "        text-align: right;\n",
       "    }\n",
       "</style>\n",
       "<table border=\"1\" class=\"dataframe\">\n",
       "  <thead>\n",
       "    <tr style=\"text-align: right;\">\n",
       "      <th></th>\n",
       "      <th>Req ID</th>\n",
       "      <th>Categoria</th>\n",
       "      <th>Descrição Alto Nível</th>\n",
       "      <th>Requisito</th>\n",
       "      <th>Comentários</th>\n",
       "      <th>Status</th>\n",
       "      <th>Histórico</th>\n",
       "      <th>Versão de modificação</th>\n",
       "      <th>Origem</th>\n",
       "      <th>Jira issue</th>\n",
       "      <th>Test Case Jira</th>\n",
       "    </tr>\n",
       "  </thead>\n",
       "  <tbody>\n",
       "    <tr>\n",
       "      <th>0</th>\n",
       "      <td>PRS-00001</td>\n",
       "      <td>Requisitos Funcionais</td>\n",
       "      <td>RF - Modos de Operação</td>\n",
       "      <td>O dispositivo deve ser capaz de operar em cinc...</td>\n",
       "      <td>NaN</td>\n",
       "      <td>Novo</td>\n",
       "      <td>NaN</td>\n",
       "      <td>v_1</td>\n",
       "      <td>NaN</td>\n",
       "      <td>NaN</td>\n",
       "      <td>NaN</td>\n",
       "    </tr>\n",
       "    <tr>\n",
       "      <th>1</th>\n",
       "      <td>PRS-00002</td>\n",
       "      <td>Requisitos Funcionais</td>\n",
       "      <td>RF - Modos de Operação</td>\n",
       "      <td>O dispositivo deve permitir a ativação do modo...</td>\n",
       "      <td>configurado pelo Json</td>\n",
       "      <td>Novo</td>\n",
       "      <td>NaN</td>\n",
       "      <td>v_1</td>\n",
       "      <td>NaN</td>\n",
       "      <td>NaN</td>\n",
       "      <td>NaN</td>\n",
       "    </tr>\n",
       "    <tr>\n",
       "      <th>2</th>\n",
       "      <td>PRS-00003</td>\n",
       "      <td>Requisitos Funcionais</td>\n",
       "      <td>RF - Modos de Operação</td>\n",
       "      <td>O dispositivo deve permitir a ativação do modo...</td>\n",
       "      <td>configurado pelo Json</td>\n",
       "      <td>Novo</td>\n",
       "      <td>NaN</td>\n",
       "      <td>v_1</td>\n",
       "      <td>NaN</td>\n",
       "      <td>NaN</td>\n",
       "      <td>NaN</td>\n",
       "    </tr>\n",
       "    <tr>\n",
       "      <th>3</th>\n",
       "      <td>PRS-00004</td>\n",
       "      <td>Requisitos Funcionais</td>\n",
       "      <td>RF - Modos de Operação</td>\n",
       "      <td>O dispositivo deve permitir a ativação do modo...</td>\n",
       "      <td>configurado pelo Json</td>\n",
       "      <td>Novo</td>\n",
       "      <td>NaN</td>\n",
       "      <td>v_1</td>\n",
       "      <td>NaN</td>\n",
       "      <td>NaN</td>\n",
       "      <td>NaN</td>\n",
       "    </tr>\n",
       "    <tr>\n",
       "      <th>4</th>\n",
       "      <td>PRS-00005</td>\n",
       "      <td>Requisitos Funcionais</td>\n",
       "      <td>RF - Modos de Operação</td>\n",
       "      <td>O dispositivo deve permitir a ativação do modo...</td>\n",
       "      <td>configurado pelo Json</td>\n",
       "      <td>Novo</td>\n",
       "      <td>NaN</td>\n",
       "      <td>v_1</td>\n",
       "      <td>NaN</td>\n",
       "      <td>NaN</td>\n",
       "      <td>NaN</td>\n",
       "    </tr>\n",
       "  </tbody>\n",
       "</table>\n",
       "</div>"
      ],
      "text/plain": [
       "      Req ID              Categoria    Descrição Alto Nível  \\\n",
       "0  PRS-00001  Requisitos Funcionais  RF - Modos de Operação   \n",
       "1  PRS-00002  Requisitos Funcionais  RF - Modos de Operação   \n",
       "2  PRS-00003  Requisitos Funcionais  RF - Modos de Operação   \n",
       "3  PRS-00004  Requisitos Funcionais  RF - Modos de Operação   \n",
       "4  PRS-00005  Requisitos Funcionais  RF - Modos de Operação   \n",
       "\n",
       "                                           Requisito            Comentários  \\\n",
       "0  O dispositivo deve ser capaz de operar em cinc...                    NaN   \n",
       "1  O dispositivo deve permitir a ativação do modo...  configurado pelo Json   \n",
       "2  O dispositivo deve permitir a ativação do modo...  configurado pelo Json   \n",
       "3  O dispositivo deve permitir a ativação do modo...  configurado pelo Json   \n",
       "4  O dispositivo deve permitir a ativação do modo...  configurado pelo Json   \n",
       "\n",
       "  Status  Histórico Versão de modificação Origem  Jira issue  Test Case Jira  \n",
       "0   Novo        NaN                   v_1    NaN         NaN             NaN  \n",
       "1   Novo        NaN                   v_1    NaN         NaN             NaN  \n",
       "2   Novo        NaN                   v_1    NaN         NaN             NaN  \n",
       "3   Novo        NaN                   v_1    NaN         NaN             NaN  \n",
       "4   Novo        NaN                   v_1    NaN         NaN             NaN  "
      ]
     },
     "execution_count": 5,
     "metadata": {},
     "output_type": "execute_result"
    }
   ],
   "source": [
    "requisitos.head()"
   ]
  },
  {
   "cell_type": "markdown",
   "id": "89ef8616-7836-408a-b687-5848493b73ff",
   "metadata": {},
   "source": [
    "### Format requirements in docs"
   ]
  },
  {
   "cell_type": "code",
   "execution_count": 6,
   "id": "47ab32f4-e592-40f6-8d21-2c1af9b2c292",
   "metadata": {},
   "outputs": [],
   "source": [
    "from langchain.docstore.document import Document\n",
    "\n",
    "# Criar lista de documentos\n",
    "docs = []\n",
    "for _, row in requisitos.iterrows():\n",
    "    content = f\"ID: {row['Req ID']} | Categoria: {row['Categoria']} | Descrição Alto Nível: {row['Descrição Alto Nível']} | Requisito: {row['Requisito']}\"\n",
    "    docs.append(Document(page_content=content, metadata={\"ID\": row[\"Req ID\"]}))"
   ]
  },
  {
   "cell_type": "code",
   "execution_count": 7,
   "id": "652b9ce4-b249-47d7-ad08-7956824c14fc",
   "metadata": {},
   "outputs": [],
   "source": [
    "import json\n",
    "docs_list =[]  \n",
    "for _, row in requisitos.iterrows():\n",
    "    doc = {\n",
    "        \"id\": row['Req ID'],\n",
    "        \"requisito\": row['Requisito']\n",
    "    }\n",
    "    docs_list.append(doc)\n",
    "\n",
    "# Convertendo para JSON\n",
    "docs_json = json.dumps(docs_list, indent=4, ensure_ascii=False)"
   ]
  },
  {
   "cell_type": "markdown",
   "id": "7dfa5bd9-2269-4845-aacb-b8dcc052ae7b",
   "metadata": {},
   "source": [
    "### LLM"
   ]
  },
  {
   "cell_type": "code",
   "execution_count": 165,
   "id": "2263446b-1309-403e-9a4c-24c85515ec09",
   "metadata": {},
   "outputs": [],
   "source": [
    "from langchain.llms import Ollama\n",
    "\n",
    "llm_llama31 = Ollama(model=\"llama3.1:8b\", temperature=0.1)\n",
    "llm_llama3 = Ollama(model=\"llama3.3:latest\", temperature=0.1)\n"
   ]
  },
  {
   "cell_type": "markdown",
   "id": "9e59f712-8286-403c-ad2f-f56b3be2df82",
   "metadata": {
    "tags": []
   },
   "source": [
    "###  Global relations analysis"
   ]
  },
  {
   "cell_type": "code",
   "execution_count": 141,
   "id": "51a8d5cf-4f00-4c57-a0e3-9e9c813c3e4c",
   "metadata": {},
   "outputs": [],
   "source": [
    "from langchain.prompts import PromptTemplate\n",
    "import json\n",
    "docs_list = []\n",
    "def analisar_relacoes(docs_json, llm_reqs_glob):\n",
    "    prompt = \"\"\"\n",
    "        Analise os seguintes requisitos como um todo:\n",
    "        {requisitos}\n",
    "\n",
    "        Identifique:\n",
    "        1. Redundâncias: Requisitos que se sobrepõem ou repetem informações.\n",
    "        2. Dependências: Requisitos que dependem de outros para serem compreendidos ou implementados.\n",
    "        3. Inconsistências: Requisitos que se contradizem ou usam terminologia inconsistente.\n",
    "\n",
    "        Forneça uma análise detalhada e obrigatoriamente responda em português.\n",
    "        \"\"\"\n",
    "\n",
    "    prompt_template = PromptTemplate(\n",
    "        input_variables=[\"requisitos\"], template=prompt)\n",
    "\n",
    "    prompt  = prompt_template.format(requisitos=docs_json)\n",
    "    analise = llm_reqs_glob(prompt)\n",
    "    return analise"
   ]
  },
  {
   "cell_type": "code",
   "execution_count": 188,
   "id": "cd8cc8e7-fdc1-4b61-a1ed-8b8c79980a13",
   "metadata": {},
   "outputs": [
    {
     "name": "stdout",
     "output_type": "stream",
     "text": [
      "Após analisar a lista de requisitos fornecida, identifiquei as seguintes questões:\n",
      "\n",
      "**Redundâncias:**\n",
      "\n",
      "1. Requisitos PRS-00329 e PRS-00331 se referem às dimensões do dispositivo e da placa, respectivamente. Embora não sejam idênticos, podem ser considerados redundantes, pois ambos tratam de dimensões físicas.\n",
      "2. Requisitos PRS-00334, PRS-00335 e PRS-00336 se referem à frequência de amostragem, canais físicos para transmissão e recepção, respectivamente. Embora não sejam idênticos, podem ser considerados redundantes, pois todos tratam de aspectos relacionados à capacidade de processamento do dispositivo.\n",
      "3. Requisitos PRS-00342 e PRS-00343 se referem à bateria interna recarregável e autonomia mínima de uso contínuo, respectivamente. Embora não sejam idênticos, podem ser considerados redundantes, pois ambos tratam de aspectos relacionados à bateria do dispositivo.\n",
      "\n",
      "**Dependências:**\n",
      "\n",
      "1. Requisito PRS-00340 (identificar o transdutor conectado) depende do requisito PRS-00339 (operar com os transdutores: Linear, Convexo e Phased Array), pois é necessário que o dispositivo possa operar com diferentes tipos de transdutores para que a identificação seja possível.\n",
      "2. Requisito PRS-00344 (tempo de recarga da bateria) depende do requisito PRS-00342 (bateria interna recarregável), pois é necessário que o dispositivo tenha uma bateria recarregável para que o tempo de recarga seja relevante.\n",
      "3. Requisito PRS-00345 (indicador visual do nível da bateria) depende do requisito PRS-00342 (bateria interna recarregável), pois é necessário que o dispositivo tenha uma bateria recarregável para que o indicador de nível de bateria seja útil.\n",
      "\n",
      "**Inconsistências:**\n",
      "\n",
      "1. Requisitos PRS-00329 e PRS-00331 se referem às dimensões do dispositivo e da placa, respectivamente, mas não há uma unidade de medida consistente entre os dois requisitos (mm x mm x mm vs. mm x mm).\n",
      "2. Requisito PRS-00334 se refere à frequência de amostragem do sinal de recepção como 20Mhz, mas não há uma explicação clara sobre por que essa frequência é necessária ou como ela se relaciona com os outros requisitos.\n",
      "3. Requisito PRS-00337 se refere à resolução do ADC como igual ou superior a 10 bits, mas não há uma explicação clara sobre por que essa resolução é necessária ou como ela se relaciona com os outros requisitos.\n",
      "\n",
      "Em resumo, a análise identificou algumas redundâncias, dependências e inconsistências nos requisitos. É importante revisar e refinar os requisitos para garantir que sejam claros, concisos e consistentes, o que ajudará a evitar problemas durante a implementação e garantir que o dispositivo atenda às necessidades dos usuários.\n"
     ]
    }
   ],
   "source": [
    "analise_global = analisar_relacoes(docs_json, llm_llama3)\n",
    "print(analise_global)"
   ]
  },
  {
   "cell_type": "markdown",
   "id": "cb3c4e15-258e-4287-8752-bcdfd7036597",
   "metadata": {},
   "source": [
    "### Individual Analysis"
   ]
  },
  {
   "cell_type": "code",
   "execution_count": 167,
   "id": "cd3cee75-7e28-49a5-a388-4b9473c226a2",
   "metadata": {},
   "outputs": [],
   "source": [
    "def avaliar_requisito(requisito, llm_reqs_indiv):\n",
    "    prompt = \"\"\"\n",
    "    Avalie o seguinte requisito com base nas boas práticas descritas abaixo, responda em português:\n",
    "    \n",
    "    Boas Práticas para Requisitos:\n",
    "    1. Os requisitos devem ser claros, precisos e não genéricos.\n",
    "    2. Os requisitos devem ter sentenças curtas.\n",
    "    3. Os requisitos devem ser individuais.\n",
    "    4. Os requisitos devem ser independentes.\n",
    "    5. Os requisitos devem ser consistentes.\n",
    "    6. Os requisitos devem ser completos.\n",
    "    7. Os requisitos devem ser verificáveis.\n",
    "    8. Os requisitos não devem ser repetidos ou redundantes.\n",
    "    9. Os requisitos devem ser coerentes quanto ao conteúdo.\n",
    "    10. Os requisitos não devem repetir várias vezes a mesma palavra.\n",
    "    \n",
    "    Exemplo 1:\n",
    "    Requisito: \"O sistema deve permitir que o usuário faça login usando seu e-mail e senha.\"\n",
    "    \n",
    "    Avaliação:\n",
    "    Clareza: Sim, o requisito é claro e específico.\n",
    "    Sentenças Curtas: Sim, a sentença é curta e direta.\n",
    "    Individualidade: Sim, trata-se de um único requisito.\n",
    "    Independência: Sim, este requisito não depende de outro.\n",
    "    Consistência: Sim, o requisito é consistente com as boas práticas.\n",
    "    Completude: Sim, o requisito descreve completamente a funcionalidade.\n",
    "    Verificabilidade: Sim, é possível verificar se o login funciona com e-mail e senha.\n",
    "    Repetição: Não há repetição desnecessária de palavras.\n",
    "    \n",
    "    Testável: Sim. Teste: Verificar se o usuário consegue fazer login inserindo e-mail e senha válidos.\n",
    "    Classificação: Sistema (é uma funcionalidade do sistema).\n",
    "    \n",
    "    Exemplo 2:\n",
    "    Requisito: \"O sistema deve ser rápido.\"\n",
    "    \n",
    "    Avaliação:\n",
    "    Clareza: Não, o requisito é vago e genérico. O que significa \"rápido\"?\n",
    "    Sentenças Curtas: Sim, a sentença é curta.\n",
    "    Individualidade: Sim, trata-se de um único requisito.\n",
    "    Independência: Sim, este requisito não depende de outro.\n",
    "    Consistência: Não, o requisito é inconsistente porque \"rápido\" não é definido.\n",
    "    Completude: Não, o requisito não descreve completamente a funcionalidade.\n",
    "    Verificabilidade: Não, não é possível verificar se o sistema é \"rápido\" sem uma definição clara.\n",
    "    Repetição: Não há repetição desnecessária de palavras.\n",
    "    \n",
    "    Testável: Não. Não há como testar algo tão subjetivo.\n",
    "    Classificação: Sistema (é uma característica geral do sistema).\n",
    "    \n",
    "    Exemplo 3:\n",
    "    Requisito: \"O sistema deve enviar uma notificação ao usuário quando houver uma nova mensagem.\"\n",
    "    \n",
    "    Avaliação:\n",
    "    Clareza: Sim, o requisito é claro e específico.\n",
    "    Sentenças Curtas: Sim, a sentença é curta e direta.\n",
    "    Individualidade: Sim, trata-se de um único requisito.\n",
    "    Independência: Sim, este requisito não depende de outro.\n",
    "    Consistência: Sim, o requisito é consistente com as boas práticas.\n",
    "    Completude: Sim, o requisito descreve completamente a funcionalidade.\n",
    "    Verificabilidade: Sim, é possível verificar se a notificação é enviada.\n",
    "    Repetição: Não há repetição desnecessária de palavras.\n",
    "    \n",
    "    Testável: Sim. Teste: Verificar se o usuário recebe uma notificação ao receber uma nova mensagem.\n",
    "    Classificação: Sistema (é uma funcionalidade do sistema).\n",
    "    \n",
    "    Exemplo 4:\n",
    "    Requisito: \"O sistema deve ser fácil de usar.\"\n",
    "    \n",
    "    Avaliação:\n",
    "    Clareza: Não, o requisito é vago e subjetivo. O que significa \"fácil de usar\"?\n",
    "    Sentenças Curtas: Sim, a sentença é curta.\n",
    "    Individualidade: Sim, trata-se de um único requisito.\n",
    "    Independência: Sim, este requisito não depende de outro.\n",
    "    Consistência: Não, o requisito é inconsistente porque \"fácil de usar\" não é definido.\n",
    "    Completude: Não, o requisito não descreve completamente a funcionalidade.\n",
    "    Verificabilidade: Não, não é possível verificar algo tão subjetivo.\n",
    "    Repetição: Não há repetição desnecessária de palavras.\n",
    "    \n",
    "    Testável: Não. Não há como testar algo tão subjetivo.\n",
    "    Classificação: Produto (é uma característica geral do produto).\n",
    "    \n",
    "    Agora, avalie o seguinte requisito:\n",
    "    \n",
    "    Requisito: {requisito}\n",
    "    \n",
    "    Sua resposta deve seguir o mesmo formato acima:\n",
    "    \n",
    "    Avaliação:\n",
    "    Clareza: \n",
    "    Sentenças Curtas: \n",
    "    Individualidade: \n",
    "    Independência: \n",
    "    Consistência: \n",
    "    Completude: \n",
    "    Verificabilidade: \n",
    "    Repetição: \n",
    "    \n",
    "    Testável (Identifique se o Requisito é Testável, se sim indique o teste):\n",
    "    \"\"\"\n",
    "    prompt_template = PromptTemplate(\n",
    "    input_variables=[\"requisito\"], template=prompt)\n",
    "\n",
    "    prompt  = prompt_template.format(requisito=requisito)\n",
    "    analise = llm_reqs_indiv(prompt)\n",
    "    return analise"
   ]
  },
  {
   "cell_type": "code",
   "execution_count": 174,
   "id": "2b652f10-0c42-4e70-a142-7b3a06d74080",
   "metadata": {},
   "outputs": [
    {
     "name": "stderr",
     "output_type": "stream",
     "text": [
      "100%|██████████| 47/47 [01:57<00:00,  2.51s/it]\n"
     ]
    }
   ],
   "source": [
    "from tqdm import tqdm\n",
    "\n",
    "resultados_individual = []\n",
    "\n",
    "for req in tqdm(json.loads(docs_json)):\n",
    "    analise = avaliar_requisito(req['requisito'], llm_llama31)\n",
    "    resultados_individual.append(analise)\n",
    "\n",
    "# Adicionar resultados ao DataFrame\n",
    "requisitos['Análise Individual'] = resultados_individual"
   ]
  },
  {
   "cell_type": "code",
   "execution_count": 176,
   "id": "52e3f659-e5c1-4184-b272-8a02d499ef3c",
   "metadata": {},
   "outputs": [
    {
     "data": {
      "text/plain": [
       "'Avaliação:\\n\\nClareza: Sim, o requisito é claro e específico. Ele descreve exatamente quais são os modos de operação que o dispositivo deve ser capaz de realizar.\\n\\nSentenças Curtas: Sim, a sentença é curta e direta, listando os modos de operação distintos que o dispositivo deve suportar.\\n\\nIndividualidade: Sim, trata-se de um único requisito, que descreve uma funcionalidade específica do dispositivo.\\n\\nIndependência: Sim, este requisito não depende de outro, pois descreve uma característica autônoma do dispositivo.\\n\\nConsistência: Sim, o requisito é consistente com as boas práticas, pois é claro e específico sobre os modos de operação que o dispositivo deve suportar.\\n\\nCompletude: Sim, o requisito descreve completamente a funcionalidade, listando todos os modos de operação distintos que o dispositivo deve ser capaz de realizar.\\n\\nVerificabilidade: Sim, é possível verificar se o dispositivo opera corretamente em cada um dos cinco modos de operação mencionados.\\n\\nRepetição: Não há repetição desnecessária de palavras ou conceitos.\\n\\nTestável: Sim. Teste: Verificar se o dispositivo pode operar corretamente em cada um dos cinco modos de operação distintos (Modo B, Modo M, Modo Doppler colorido e Doppler power, PW Doppler).\\n\\nClassificação: Sistema (é uma funcionalidade do sistema).'"
      ]
     },
     "execution_count": 176,
     "metadata": {},
     "output_type": "execute_result"
    }
   ],
   "source": [
    "resultados_individual[0]"
   ]
  },
  {
   "cell_type": "code",
   "execution_count": 189,
   "id": "3cbdd575-59f9-4279-a37e-235dc0c58237",
   "metadata": {},
   "outputs": [
    {
     "name": "stderr",
     "output_type": "stream",
     "text": [
      "100%|██████████| 47/47 [08:24<00:00, 10.74s/it]\n"
     ]
    }
   ],
   "source": [
    "from tqdm import tqdm\n",
    "\n",
    "resultados_individual = []\n",
    "\n",
    "for req in tqdm(json.loads(docs_json)):\n",
    "    analise = avaliar_requisito2(str(req))\n",
    "    resultados_individual.append(analise[analise.find('\\n</think>\\n')+9:])\n",
    "\n",
    "# Adicionar resultados ao DataFrame\n",
    "requisitos['Análise Individual'] = resultados_individual"
   ]
  },
  {
   "cell_type": "code",
   "execution_count": 190,
   "id": "4d3d2e27-76b4-401c-9d31-2840ff77731f",
   "metadata": {},
   "outputs": [],
   "source": [
    "with open('analise_completa.txt', 'w') as f:\n",
    "    # Análise Individual\n",
    "    f.write(\"### Análise Individual:\\n\")\n",
    "    for i, analise in enumerate(resultados_individual):\n",
    "        Id = json.loads(docs_json)[i]['id']\n",
    "        requisito =  json.loads(docs_json)[i]['requisito']\n",
    "        f.write(f\"ID: {id} | Requisito {requisito}: \\n{analise}\\n\\n\")\n",
    "\n",
    "    # Análise Global\n",
    "    f.write(\"### Análise Global:\\n\")\n",
    "    f.write(analise_global)"
   ]
  }
 ],
 "metadata": {
  "kernelspec": {
   "display_name": "Python 3 (ipykernel)",
   "language": "python",
   "name": "python3"
  },
  "language_info": {
   "codemirror_mode": {
    "name": "ipython",
    "version": 3
   },
   "file_extension": ".py",
   "mimetype": "text/x-python",
   "name": "python",
   "nbconvert_exporter": "python",
   "pygments_lexer": "ipython3",
   "version": "3.8.13"
  }
 },
 "nbformat": 4,
 "nbformat_minor": 5
}
