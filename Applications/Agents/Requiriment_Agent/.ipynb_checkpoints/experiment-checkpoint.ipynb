{
 "cells": [
  {
   "cell_type": "code",
   "execution_count": 1,
   "id": "7e494348-47b8-4eb9-85a5-5bdc7541abae",
   "metadata": {},
   "outputs": [],
   "source": [
    "import pandas as pd"
   ]
  },
  {
   "cell_type": "code",
   "execution_count": 2,
   "id": "50aa75e9-c47f-428c-8a7f-f29e5d0fd925",
   "metadata": {},
   "outputs": [],
   "source": [
    "from langchain_ollama.llms import OllamaLLM\n",
    "from langchain.llms import HuggingFacePipeline\n",
    "from langchain.embeddings import HuggingFaceEmbeddings\n",
    "from langchain.vectorstores import Chroma\n",
    "from langchain.docstore.document import Document\n",
    "\n",
    "from langchain_community.embeddings.ollama import OllamaEmbeddings\n",
    "\n",
    "from langchain.memory import ConversationBufferMemory\n",
    "from langchain.chains import RetrievalQA\n",
    "from langchain_core.prompts import PromptTemplate"
   ]
  },
  {
   "cell_type": "code",
   "execution_count": 3,
   "id": "3263fcf6-c38a-4412-80ef-2c74014e611f",
   "metadata": {},
   "outputs": [
    {
     "name": "stdout",
     "output_type": "stream",
     "text": [
      "        Req ID             Subsistema Funcionalidade  \\\n",
      "0  SYSRS-00001          Inicialização  Inicialização   \n",
      "1  SYSRS-00002          Inicialização  Inicialização   \n",
      "2  SYSRS-00003          Inicialização     Auto teste   \n",
      "3  SYSRS-00004  Configuração da probe   Configuração   \n",
      "4  SYSRS-00005  Configuração da probe   Configuração   \n",
      "\n",
      "                                           Requisito  \\\n",
      "0  O sistema deve ser ligado após a conexão segur...   \n",
      "1  O sistema deve inicializar automaticamente com...   \n",
      "2  O sistema deve realizar um auto teste ao ligar...   \n",
      "3  O sistema deve permitir a configuração de dife...   \n",
      "4  O sistema deve reconhecer automaticamente quan...   \n",
      "\n",
      "                                         Comentários Status  Histórico  \\\n",
      "0                                                NaN   Novo        NaN   \n",
      "1  Presets devem incluir ajustes automáticos de g...   Novo        NaN   \n",
      "2  O auto teste deve incluir verificações de cone...   Novo        NaN   \n",
      "3                                                NaN   Novo        NaN   \n",
      "4                                                NaN   Novo        NaN   \n",
      "\n",
      "  Versão de modificação     Origem  Jira issue  Test Case Jira  \n",
      "0                   v_1        NaN         NaN             NaN  \n",
      "1                   v_1  Documento         NaN             NaN  \n",
      "2                   v_1  Documento         NaN             NaN  \n",
      "3                   v_1        NaN         NaN             NaN  \n",
      "4                   v_1        NaN         NaN             NaN  \n"
     ]
    },
    {
     "name": "stderr",
     "output_type": "stream",
     "text": [
      "/opt/conda/lib/python3.8/site-packages/openpyxl/worksheet/_reader.py:329: UserWarning: Data Validation extension is not supported and will be removed\n",
      "  warn(msg)\n"
     ]
    }
   ],
   "source": [
    "# Carregar o arquivo Excel\n",
    "file_path = \"Template - Requisito de Software v02.xlsx\"\n",
    "xls = pd.ExcelFile(file_path)\n",
    "\n",
    "# Carregar abas específicas\n",
    "sobre_documento = pd.read_excel(xls, sheet_name=\"Sobre o documento\")\n",
    "glossario = pd.read_excel(xls, sheet_name=\"1-Glossário\")\n",
    "requisitos = pd.read_excel(xls, sheet_name='2-Requisitos de Software', skiprows= len(xls.sheet_names)+1)\n",
    "lists = pd.read_excel(xls, sheet_name=\"3-Lists\")\n",
    "versoes = pd.read_excel(xls, sheet_name=\"4-Versões\")\n",
    "guia = pd.read_excel(xls, sheet_name=\"5-Guia\")\n",
    "\n",
    "# Exibir as primeiras linhas da aba de requisitos\n",
    "print(requisitos.head())\n",
    "\n",
    "requisitos_texto = requisitos.to_string(index=False)"
   ]
  },
  {
   "cell_type": "code",
   "execution_count": 4,
   "id": "42d65f44-41c4-4eef-8e91-ebea6b0877df",
   "metadata": {},
   "outputs": [
    {
     "name": "stdout",
     "output_type": "stream",
     "text": [
      "        Req ID     Subsistema Funcionalidade  \\\n",
      "0  SYSRS-00001  Inicialização  Inicialização   \n",
      "1  SYSRS-00002  Inicialização  Inicialização   \n",
      "\n",
      "                                           Requisito  \\\n",
      "0  O sistema deve ser ligado após a conexão segur...   \n",
      "1  O sistema deve inicializar automaticamente com...   \n",
      "\n",
      "                                         Comentários Status  Histórico  \\\n",
      "0                                                NaN   Novo        NaN   \n",
      "1  Presets devem incluir ajustes automáticos de g...   Novo        NaN   \n",
      "\n",
      "  Versão de modificação     Origem  Jira issue  Test Case Jira  \n",
      "0                   v_1        NaN         NaN             NaN  \n",
      "1                   v_1  Documento         NaN             NaN  \n"
     ]
    }
   ],
   "source": [
    "print(requisitos[:2])  # Mostrar os dois primeiros requisitos"
   ]
  },
  {
   "cell_type": "code",
   "execution_count": 5,
   "id": "b01d0cca-800d-48f5-8ae0-6bef36aface6",
   "metadata": {},
   "outputs": [
    {
     "data": {
      "text/html": [
       "<div>\n",
       "<style scoped>\n",
       "    .dataframe tbody tr th:only-of-type {\n",
       "        vertical-align: middle;\n",
       "    }\n",
       "\n",
       "    .dataframe tbody tr th {\n",
       "        vertical-align: top;\n",
       "    }\n",
       "\n",
       "    .dataframe thead th {\n",
       "        text-align: right;\n",
       "    }\n",
       "</style>\n",
       "<table border=\"1\" class=\"dataframe\">\n",
       "  <thead>\n",
       "    <tr style=\"text-align: right;\">\n",
       "      <th></th>\n",
       "      <th>Req ID</th>\n",
       "      <th>Subsistema</th>\n",
       "      <th>Funcionalidade</th>\n",
       "      <th>Requisito</th>\n",
       "      <th>Comentários</th>\n",
       "      <th>Status</th>\n",
       "      <th>Histórico</th>\n",
       "      <th>Versão de modificação</th>\n",
       "      <th>Origem</th>\n",
       "      <th>Jira issue</th>\n",
       "      <th>Test Case Jira</th>\n",
       "    </tr>\n",
       "  </thead>\n",
       "  <tbody>\n",
       "  </tbody>\n",
       "</table>\n",
       "</div>"
      ],
      "text/plain": [
       "Empty DataFrame\n",
       "Columns: [Req ID, Subsistema, Funcionalidade, Requisito, Comentários, Status, Histórico, Versão de modificação, Origem, Jira issue, Test Case Jira]\n",
       "Index: []"
      ]
     },
     "execution_count": 5,
     "metadata": {},
     "output_type": "execute_result"
    }
   ],
   "source": [
    "requisitos.dropna()"
   ]
  },
  {
   "cell_type": "code",
   "execution_count": 6,
   "id": "71c4af41-18d3-4e0b-8804-c554ac0337b9",
   "metadata": {},
   "outputs": [
    {
     "data": {
      "text/plain": [
       "'     Req ID              Subsistema Funcionalidade                                                                                                                                    Requisito                                                                        Comentários Status  Histórico Versão de modificação    Origem  Jira issue  Test Case Jira\\nSYSRS-00001           Inicialização  Inicialização                                                   O sistema deve ser ligado após a conexão segura da sonda (probe) ao dispositivo principal.                                                                                NaN   Novo        NaN                   v_1       NaN         NaN             NaN\\nSYSRS-00002           Inicialização  Inicialização                                   O sistema deve inicializar automaticamente com os presets padrão ao ser ligado ou ao trocar de transdutor.      Presets devem incluir ajustes automáticos de ganho, TGC, profundidade e foco.   Novo        NaN                   v_1 Documento         NaN             NaN\\nSYSRS-00003           Inicialização     Auto teste                         O sistema deve realizar um auto teste ao ligar, verificando o funcionamento dos módulos FPGA, processador e bateria. O auto teste deve incluir verificações de conectividade Wi-Fi e status da bateria.   Novo        NaN                   v_1 Documento         NaN             NaN\\nSYSRS-00004   Configuração da probe   Configuração                                       O sistema deve permitir a configuração de diferentes tipos probes, sendo elas: Linear, Convexo, Phased                                                                                NaN   Novo        NaN                   v_1       NaN         NaN             NaN\\nSYSRS-00005   Configuração da probe   Configuração                                                                       O sistema deve reconhecer automaticamente quando uma probe é conectada                                                                                NaN   Novo        NaN                   v_1       NaN         NaN             NaN\\nSYSRS-00006   Configuração da probe   Configuração                                                      O sistema deve permitir a escolha do modo de operação independente da probe selecionada                                                                                NaN   Novo        NaN                   v_1       NaN         NaN             NaN\\nSYSRS-00007   Configuração da probe   Configuração                                               O sistema deve identificar quando nenhuma probe estiver conectada, enviando \"exibindo\"um aviso                                                                                NaN   Novo        NaN                   NaN       NaN         NaN             NaN\\nSYSRS-00008   Configuração da probe   Configuração                                          O sistema do dispositivo deve possuir somente uma saída física para a conexão da probe (transdutor)                                                                                NaN   Novo        NaN                   NaN       NaN         NaN             NaN\\nSYSRS-00009   Configuração da probe   Configuração                                                      O sistema deve permitir a configuração do parâmetros de acordo com cada probe conectada                                                                                NaN   Novo        NaN                   NaN       NaN         NaN             NaN\\nSYSRS-00010 Parametrização de Modos Parametrização                                            O software deve permitir a escolha entre os modos de operação B, M, Power Doppler e Color Doppler                                                                                NaN   Novo        NaN                   NaN       NaN         NaN             NaN\\nSYSRS-00011       Execução de Modos   Exec. Modo M                   Durante a execução do modo de operação M, o software deve captar em tempo real a representação da imagem ao longo do tempo                                                                                NaN    NaN        NaN                   NaN       NaN         NaN             NaN\\nSYSRS-00012       Execução de Modos   Exec. Modo M                   Durante a execução do modo de operação M, o software deve exibir em tempo real a representação da imagem ao longo do tempo                                                                                NaN    NaN        NaN                   NaN       NaN         NaN             NaN\\nSYSRS-00013       Execução de Modos   Exec. Modo M                                      O software deve permitir, através do aplicativo ao operador ajustar a escala de tempo exibida no modo M                                                                                NaN    NaN        NaN                   NaN       NaN         NaN             NaN\\nSYSRS-00014       Execução de Modos       Execução                                       O software deve permitir a possibilidade do operador, selecionar a exibição simultânea dos modos M e B                                                                                NaN    NaN        NaN                   NaN       NaN         NaN             NaN\\nSYSRS-00015       Execução de Modos   Exec. Modo B Durante a execução do modo de operação B com a probe convexa, o software deve permitir o ajuste de profundidade de varredura. Resolução: TBD                                                                                NaN    NaN        NaN                   NaN       NaN         NaN             NaN\\nSYSRS-00016       Execução de Modos   Exec. Modo B                   Durante a execução do modo de operação B, o software deve possibilitar o ajuste de ganho e constraste de imagem. Resolução                                                                                NaN    NaN        NaN                   NaN       NaN         NaN             NaN\\nSYSRS-00017       Execução de Modos   Exec. Modo B                                    Durante a execução do modo de operação B, o software deve exibir imagens em tempo real em escala de cinza                                                                                NaN    NaN        NaN                   NaN       NaN         NaN             NaN\\nSYSRS-00018                     NaN            NaN                                              Durante a execução do modo de operação B, o software deve possibilitar o congelamento da imagem                                                                                NaN    NaN        NaN                   NaN       NaN         NaN             NaN\\nSYSRS-00019                     NaN            NaN                                        Durante a execução do modo de operação B, o software deve possibilitar a captura de imagens estáticas                                                                                NaN    NaN        NaN                   NaN       NaN         NaN             NaN\\nSYSRS-00020                     NaN            NaN                                     Durante a execução do modo de operação B, o software deve possibilitar o salvamento de imagens estáticas                                                                                NaN    NaN        NaN                   NaN       NaN         NaN             NaN\\nSYSRS-00021                     NaN            NaN                      Durante a execução do modo de operação B, o software deve permitir a inserção de anotações textuais na imagem congelada                                                                                NaN    NaN        NaN                   NaN       NaN         NaN             NaN\\nSYSRS-00022                     NaN            NaN                              Durante a execução do modo de operação B, o software deve permitir a marcação gráfica para pontos de referência                                                                                NaN    NaN        NaN                   NaN       NaN         NaN             NaN\\nSYSRS-00023                     NaN            NaN                                                                                                                                          NaN                                                                                NaN    NaN        NaN                   NaN       NaN         NaN             NaN\\nSYSRS-00024                     NaN            NaN                                                                                                                                          NaN                                                                                NaN    NaN        NaN                   NaN       NaN         NaN             NaN\\nSYSRS-00025                     NaN            NaN                                                                                                                                          NaN                                                                                NaN    NaN        NaN                   NaN       NaN         NaN             NaN\\nSYSRS-00026                     NaN            NaN                                                                                                                                          NaN                                                                                NaN    NaN        NaN                   NaN       NaN         NaN             NaN\\nSYSRS-00027                     NaN            NaN                                                                                                                                          NaN                                                                                NaN    NaN        NaN                   NaN       NaN         NaN             NaN\\nSYSRS-00028                     NaN            NaN                                                                                                                                          NaN                                                                                NaN    NaN        NaN                   NaN       NaN         NaN             NaN\\nSYSRS-00029                     NaN            NaN                                                                                                                                          NaN                                                                                NaN    NaN        NaN                   NaN       NaN         NaN             NaN\\nSYSRS-00030                     NaN            NaN                                                                                                                                          NaN                                                                                NaN    NaN        NaN                   NaN       NaN         NaN             NaN\\nSYSRS-00031                     NaN            NaN                                                                                                                                          NaN                                                                                NaN    NaN        NaN                   NaN       NaN         NaN             NaN\\nSYSRS-00032                     NaN            NaN                                                                                                                                          NaN                                                                                NaN    NaN        NaN                   NaN       NaN         NaN             NaN\\nSYSRS-00033                     NaN            NaN                                                                                                                                          NaN                                                                                NaN    NaN        NaN                   NaN       NaN         NaN             NaN\\nSYSRS-00034                     NaN            NaN                                                                                                                                          NaN                                                                                NaN    NaN        NaN                   NaN       NaN         NaN             NaN\\nSYSRS-00035                     NaN            NaN                                                                                                                                          NaN                                                                                NaN    NaN        NaN                   NaN       NaN         NaN             NaN\\nSYSRS-00036                     NaN            NaN                                                                                                                                          NaN                                                                                NaN    NaN        NaN                   NaN       NaN         NaN             NaN\\nSYSRS-00037                     NaN            NaN                                                                                                                                          NaN                                                                                NaN    NaN        NaN                   NaN       NaN         NaN             NaN\\nSYSRS-00038                     NaN            NaN                                                                                                                                          NaN                                                                                NaN    NaN        NaN                   NaN       NaN         NaN             NaN\\nSYSRS-00039                     NaN            NaN                                                                                                                                          NaN                                                                                NaN    NaN        NaN                   NaN       NaN         NaN             NaN\\nSYSRS-00040                     NaN            NaN                                                                                                                                          NaN                                                                                NaN    NaN        NaN                   NaN       NaN         NaN             NaN\\nSYSRS-00041                     NaN            NaN                                                                                                                                          NaN                                                                                NaN    NaN        NaN                   NaN       NaN         NaN             NaN\\nSYSRS-00042                     NaN            NaN                                                                                                                                          NaN                                                                                NaN    NaN        NaN                   NaN       NaN         NaN             NaN\\nSYSRS-00043                     NaN            NaN                                                                                                                                          NaN                                                                                NaN    NaN        NaN                   NaN       NaN         NaN             NaN\\nSYSRS-00044                     NaN            NaN                                                                                                                                          NaN                                                                                NaN    NaN        NaN                   NaN       NaN         NaN             NaN\\nSYSRS-00045                     NaN            NaN                                                                                                                                          NaN                                                                                NaN    NaN        NaN                   NaN       NaN         NaN             NaN\\nSYSRS-00046                     NaN            NaN                                                                                                                                          NaN                                                                                NaN    NaN        NaN                   NaN       NaN         NaN             NaN\\nSYSRS-00047                     NaN            NaN                                                                                                                                          NaN                                                                                NaN    NaN        NaN                   NaN       NaN         NaN             NaN\\nSYSRS-00048                     NaN            NaN                                                                                                                                          NaN                                                                                NaN    NaN        NaN                   NaN       NaN         NaN             NaN\\nSYSRS-00049                     NaN            NaN                                                                                                                                          NaN                                                                                NaN    NaN        NaN                   NaN       NaN         NaN             NaN\\nSYSRS-00050                     NaN            NaN                                                                                                                                          NaN                                                                                NaN    NaN        NaN                   NaN       NaN         NaN             NaN\\nSYSRS-00051                     NaN            NaN                                                                                                                                          NaN                                                                                NaN    NaN        NaN                   NaN       NaN         NaN             NaN\\nSYSRS-00052                     NaN            NaN                                                                                                                                          NaN                                                                                NaN    NaN        NaN                   NaN       NaN         NaN             NaN\\nSYSRS-00053                     NaN            NaN                                                                                                                                          NaN                                                                                NaN    NaN        NaN                   NaN       NaN         NaN             NaN\\nSYSRS-00054                     NaN            NaN                                                                                                                                          NaN                                                                                NaN    NaN        NaN                   NaN       NaN         NaN             NaN\\nSYSRS-00055                     NaN            NaN                                                                                                                                          NaN                                                                                NaN    NaN        NaN                   NaN       NaN         NaN             NaN\\nSYSRS-00056                     NaN            NaN                                                                                                                                          NaN                                                                                NaN    NaN        NaN                   NaN       NaN         NaN             NaN\\nSYSRS-00057                     NaN            NaN                                                                                                                                          NaN                                                                                NaN    NaN        NaN                   NaN       NaN         NaN             NaN\\nSYSRS-00058                     NaN            NaN                                                                                                                                          NaN                                                                                NaN    NaN        NaN                   NaN       NaN         NaN             NaN\\nSYSRS-00059                     NaN            NaN                                                                                                                                          NaN                                                                                NaN    NaN        NaN                   NaN       NaN         NaN             NaN\\nSYSRS-00060                     NaN            NaN                                                                                                                                          NaN                                                                                NaN    NaN        NaN                   NaN       NaN         NaN             NaN\\nSYSRS-00061                     NaN            NaN                                                                                                                                          NaN                                                                                NaN    NaN        NaN                   NaN       NaN         NaN             NaN\\nSYSRS-00062                     NaN            NaN                                                                                                                                          NaN                                                                                NaN    NaN        NaN                   NaN       NaN         NaN             NaN\\nSYSRS-00063                     NaN            NaN                                                                                                                                          NaN                                                                                NaN    NaN        NaN                   NaN       NaN         NaN             NaN\\nSYSRS-00064                     NaN            NaN                                                                                                                                          NaN                                                                                NaN    NaN        NaN                   NaN       NaN         NaN             NaN\\nSYSRS-00065                     NaN            NaN                                                                                                                                          NaN                                                                                NaN    NaN        NaN                   NaN       NaN         NaN             NaN'"
      ]
     },
     "execution_count": 6,
     "metadata": {},
     "output_type": "execute_result"
    }
   ],
   "source": [
    "requisitos_texto"
   ]
  },
  {
   "cell_type": "code",
   "execution_count": 7,
   "id": "25456fdb-9fa0-4960-a535-f2409d371ed3",
   "metadata": {},
   "outputs": [],
   "source": [
    "regras = '''\n",
    "\n",
    "### Regras de Escrita de Requisitos\n",
    "\n",
    "    #### 1.1 Clareza e Precisão\n",
    "    - Os requisitos devem ser claros, precisos e não genéricos.\n",
    "      - Evite palavras subjetivas (ex.: \"rápido\", \"seguro\").\n",
    "      - Seja explícito: \"Explícito é melhor que implícito\".\n",
    "      - Exemplo Ruim: \"O sistema deve aceitar senhas curtas.\"\n",
    "      - Exemplo Bom: \"O sistema deve aceitar senhas com até 15 caracteres.\"\n",
    "\n",
    "    - Todos os requisitos devem ter um critério de aceitação claro.\n",
    "      - Exemplo: \"O sistema deve permitir login com e-mail e senha. Critério: O usuário deve ser redirecionado para a página inicial após o login.\"\n",
    "\n",
    "    #### 1.2 Sentenças Curtas\n",
    "    - Use declarações curtas e objetivas.\n",
    "      - Exemplo Bom: \"O sistema deve registrar a temperatura do sensor a cada 2 minutos.\"\n",
    "\n",
    "    #### 1.3 Individualidade\n",
    "    - Cada requisito deve conter apenas um elemento ou funcionalidade.\n",
    "      - Evite usar palavras como \"e\", \"ou\", \"mas\".\n",
    "      - Exemplo Ruim: \"O sistema deve permitir reservar voos e comprar passagens.\"\n",
    "      - Exemplo Bom: Divida em dois requisitos:\n",
    "        - \"O sistema deve permitir reservar voos.\"\n",
    "        - \"O sistema deve permitir comprar passagens.\"\n",
    "\n",
    "    #### 1.4 Independência\n",
    "    - Um requisito não deve depender de outro.\n",
    "      - Exemplo Ruim: \"A lista de voos deve ser classificada por preço, do menor para o maior.\" (Depende de outro requisito sobre a lista de voos.)\n",
    "      - Exemplo Bom: \"A lista de voos disponíveis deve incluir números de voo e ser classificada por preço, do menor para o maior.\"\n",
    "\n",
    "    #### 1.5 Consistência\n",
    "    - Use terminologia consistente.\n",
    "      - Exemplo Ruim: Usar \"salvar\", \"registrar\" e \"gravar\" para descrever a mesma ação.\n",
    "      - Exemplo Bom: Escolha um termo e use-o sempre.\n",
    "\n",
    "    #### 1.6 Completude\n",
    "    - Inclua todas as informações necessárias para implementação e verificação.\n",
    "      - Exemplo Bom: Inclua tabelas ou imagens quando necessário.\n",
    "      - Exemplo: Um requisito pode incluir uma tabela com condições de ativação, prioridade, mensagem, etc.\n",
    "\n",
    "    #### 1.7 Verificabilidade\n",
    "    - Os requisitos devem ser testáveis (passou/falhou).\n",
    "      - Evite adjetivos vagos (ex.: \"robusto\", \"seguro\") ou advérbios imprecisos (ex.: \"rapidamente\").\n",
    "      - Exemplo Ruim: \"O sistema deve resistir ao uso simultâneo por muitos usuários.\"\n",
    "      - Exemplo Bom: \"O sistema deve suportar até 100 usuários simultâneos.\"\n",
    "\n",
    "    #### 1.8 Não Repetição\n",
    "    - Evite duplicar requisitos.\n",
    "      - Se necessário, referencie outro requisito já declarado.\n",
    "      - Exemplo Ruim: \"Um calendário deve estar disponível para ajudar na escolha da data do voo.\" E \"O sistema deve exibir um calendário pop-up ao inserir qualquer data.\"\n",
    "      - Exemplo Bom: Combine os dois requisitos em um único.\n",
    "\n",
    "### Regras de Organização e Outras Dicas\n",
    "\n",
    "    #### 2.1 Hierarquia\n",
    "    - Escreva os requisitos de forma hierárquica/estruturada.\n",
    "      - Siga uma estrutura lógica (ex.: V-model).\n",
    "\n",
    "    #### 2.2 Neutralidade em Termos de Implementação\n",
    "    - Declare *o que* o sistema deve fazer, não *como* fazê-lo.\n",
    "      - Exemplo Ruim: \"O sistema deve usar Python para processamento.\"\n",
    "      - Exemplo Bom: \"O sistema deve processar dados em tempo real.\"\n",
    "\n",
    "    #### 2.3 Armadilha da Implementação\n",
    "    - Evite detalhar como algo será implementado nos requisitos de alto nível.\n",
    "      - Exemplo Ruim: \"O sistema deve usar MQTT para comunicação.\"\n",
    "      - Exemplo Bom: \"O sistema deve permitir comunicação em tempo real.\"\n",
    "\n",
    "    #### 2.4 Rastreabilidade\n",
    "    - Cada requisito deve ter um ID único.\n",
    "      - Associações entre requisitos pai e filhos devem ser registradas.\n",
    "      - Exemplo: \"REQ001 → REQ002, REQ003\".\n",
    "\n",
    "    #### 2.5 Agrupamento por Assunto\n",
    "    - Agrupe requisitos por funcionalidade ou assunto.\n",
    "      - Exemplo: Agrupar requisitos relacionados a alarmes ou funcionalidades específicas.\n",
    "\n",
    "    #### 2.6 Controle de Alterações\n",
    "    - Utilize recursos de controle de alterações.\n",
    "      - Ative o controle de alterações no Word/Excel para acompanhar mudanças.\n",
    "\n",
    "    #### 2.7 Check-Out\n",
    "    - Utilize o recurso de check-out.\n",
    "      - Evite alterações paralelas no documento.\n",
    "\n",
    "    #### 2.8 Comunicação\n",
    "    - Comunique todos os envolvidos a cada nova versão.\n",
    "      - Informe sobre atualizações para garantir alinhamento.'''\n"
   ]
  },
  {
   "cell_type": "code",
   "execution_count": 8,
   "id": "5098cc7e-5a03-4d57-9134-62392d0af250",
   "metadata": {},
   "outputs": [],
   "source": [
    "# Codificação das regras\n",
    "regras = \"\"\"\n",
    "### Regras de Escrita de Requisitos\n",
    "\n",
    "#### 1. Clareza e Precisão\n",
    "- Os requisitos devem ser claros, precisos e não genéricos.\n",
    "  - Exemplo Ruim: \"O sistema deve aceitar senhas curtas.\"\n",
    "  - Exemplo Bom: \"O sistema deve aceitar senhas com até 15 caracteres.\"\n",
    "\n",
    "#### 2. Sentenças Curtas\n",
    "- Use declarações curtas e objetivas.\n",
    "  - Exemplo Bom: \"O sistema deve registrar a temperatura do sensor a cada 2 minutos.\"\n",
    "\n",
    "#### 3. Individualidade\n",
    "- Cada requisito deve conter apenas um elemento.\n",
    "  - Exemplo Ruim: \"O sistema deve permitir reservar voos e comprar passagens.\"\n",
    "  - Exemplo Bom:\n",
    "    - \"O sistema deve permitir reservar voos.\"\n",
    "    - \"O sistema deve permitir comprar passagens.\"\n",
    "\n",
    "#### 4. Independência\n",
    "- Um requisito não deve depender de outro.\n",
    "  - Exemplo Ruim: \"A lista de voos deve ser classificada por preço, do menor para o maior.\" (Depende de outro requisito sobre a lista de voos.)\n",
    "  - Exemplo Bom: \"A lista de voos disponíveis deve incluir números de voo e ser classificada por preço, do menor para o maior.\"\n",
    "\n",
    "#### 5. Consistência\n",
    "- Use terminologia consistente.\n",
    "  - Exemplo Ruim: Usar \"salvar\", \"registrar\" e \"gravar\" para descrever a mesma ação.\n",
    "  - Exemplo Bom: Escolha um termo e use-o sempre.\n",
    "\n",
    "#### 6. Completude\n",
    "- Inclua todas as informações necessárias para implementação e verificação.\n",
    "  - Exemplo Bom: Inclua tabelas ou imagens quando necessário.\n",
    "\n",
    "#### 7. Verificabilidade\n",
    "- Os requisitos devem ser testáveis (passou/falhou).\n",
    "  - Exemplo Ruim: \"O sistema deve resistir ao uso simultâneo por muitos usuários.\"\n",
    "  - Exemplo Bom: \"O sistema deve suportar até 100 usuários simultâneos.\"\n",
    "\n",
    "#### 8. Não Repetição\n",
    "- Evite duplicar requisitos.\n",
    "  - Exemplo Ruim: \"Um calendário deve estar disponível para ajudar na escolha da data do voo.\" E \"O sistema deve exibir um calendário pop-up ao inserir qualquer data.\"\n",
    "  - Exemplo Bom: Combine os dois requisitos em um único.\n",
    "\"\"\""
   ]
  },
  {
   "cell_type": "code",
   "execution_count": null,
   "id": "dc2c1cc8-ba6c-4458-96db-1e340d8155f8",
   "metadata": {},
   "outputs": [],
   "source": []
  },
  {
   "cell_type": "code",
   "execution_count": 9,
   "id": "f4763322-c55a-44a3-a44d-e1687e4b98ce",
   "metadata": {},
   "outputs": [],
   "source": [
    "#llm = OllamaLLM(model=\"llama3.3\", temperature = 0.3, max_new_tokens = 2023, max_length=2023,)\n",
    "llm = OllamaLLM(model=\"llama3.3\", temperature = 0.3)"
   ]
  },
  {
   "cell_type": "code",
   "execution_count": 13,
   "id": "8cd2b7dc-8ae0-4cf1-ac3d-599df991b191",
   "metadata": {},
   "outputs": [
    {
     "name": "stderr",
     "output_type": "stream",
     "text": [
      "/tmp/ipykernel_7753/2031055402.py:19: LangChainDeprecationWarning: The class `LLMChain` was deprecated in LangChain 0.1.17 and will be removed in 1.0. Use RunnableSequence, e.g., `prompt | llm` instead.\n",
      "  chain = LLMChain(llm=llm, prompt=prompt)\n",
      "/tmp/ipykernel_7753/2031055402.py:22: LangChainDeprecationWarning: The method `Chain.run` was deprecated in langchain 0.1.0 and will be removed in 1.0. Use invoke instead.\n",
      "  response = chain.run(requisitos=requisitos_texto)  # Testando com 5 requisitos\n"
     ]
    },
    {
     "name": "stdout",
     "output_type": "stream",
     "text": [
      "Aqui está a análise dos requisitos:\n",
      "\n",
      "**Conflitos entre requisitos:**\n",
      "\n",
      "* Não há conflitos explícitos entre os requisitos, pois muitos deles estão vazios ou não contêm informações suficientes para identificar possíveis conflitos.\n",
      "* No entanto, é possível que haja conflitos implícitos entre os requisitos relacionados à funcionalidade do sistema, como a captura e exibição de imagens, por exemplo.\n",
      "\n",
      "**Possíveis melhorias na clareza:**\n",
      "\n",
      "1. **Remoção de requisitos vazios**: Muitos dos requisitos estão vazios ou não contêm informações suficientes. É importante remover esses requisitos para evitar confusão e garantir que os requisitos sejam claros e concisos.\n",
      "2. **Definição de termos técnicos**: Alguns termos técnicos, como \"captura de imagem\" e \"exibição de imagem\", podem ser ambíguos. É importante definir esses termos para evitar mal-entendidos.\n",
      "3. **Especificar os requisitos de forma mais detalhada**: Muitos dos requisitos são muito genéricos e não fornecem informações suficientes sobre o que é necessário. É importante especificar os requisitos de forma mais detalhada para garantir que sejam claros e concisos.\n",
      "4. **Organizar os requisitos por categoria**: Os requisitos parecem estar organizados de forma aleatória. É importante organizar os requisitos por categoria (por exemplo, funcionalidade, segurança, desempenho) para facilitar a compreensão e a gestão dos requisitos.\n",
      "\n",
      "**Impactos de mudanças:**\n",
      "\n",
      "1. **Alterações nos requisitos**: Se os requisitos forem alterados, pode ser necessário atualizar o design e a implementação do sistema para refletir as mudanças.\n",
      "2. **Impacto no cronograma e orçamento**: Alterações nos requisitos podem afetar o cronograma e o orçamento do projeto, pois podem exigir mais tempo e recursos para implementar as mudanças.\n",
      "3. **Risco de introduzir novos bugs**: Alterações nos requisitos podem introduzir novos bugs ou problemas no sistema, especialmente se as mudanças forem feitas sem uma análise cuidadosa das implicações.\n",
      "\n",
      "Em resumo, é importante remover os requisitos vazios, definir termos técnicos, especificar os requisitos de forma mais detalhada e organizar os requisitos por categoria para garantir que sejam claros e concisos. Além disso, é fundamental considerar os impactos de mudanças nos requisitos para evitar problemas no cronograma, orçamento e qualidade do sistema.\n"
     ]
    }
   ],
   "source": [
    "from langchain.chains import LLMChain\n",
    "# Criar um template de prompt para análise de requisitos\n",
    "template = \"\"\"Você é um especialista em engenharia de requisitos. \n",
    "Aqui estão os requisitos do sistema:\n",
    "\n",
    "{requisitos}\n",
    "\n",
    "Analise e identifique:\n",
    "1. Conflitos entre requisitos.\n",
    "2. Possíveis melhorias na clareza.\n",
    "3. Impactos de mudanças.\n",
    "\n",
    "Responda de forma objetiva.\n",
    "\"\"\"\n",
    "\n",
    "prompt = PromptTemplate(input_variables=[\"requisitos\"], template=template)\n",
    "\n",
    "# Criar a cadeia de análise\n",
    "chain = LLMChain(llm=llm, prompt=prompt)\n",
    "\n",
    "# Rodar a análise para os requisitos carregados\n",
    "response = chain.run(requisitos=requisitos_texto)  # Testando com 5 requisitos\n",
    "\n",
    "print(response)  # Exibir a resposta do modelo"
   ]
  },
  {
   "cell_type": "code",
   "execution_count": 14,
   "id": "e96f43cf-a1db-4291-bc12-0dd3200a9280",
   "metadata": {},
   "outputs": [
    {
     "name": "stderr",
     "output_type": "stream",
     "text": [
      "/tmp/ipykernel_7753/2882388359.py:19: LangChainDeprecationWarning: The method `BaseLLM.__call__` was deprecated in langchain-core 0.1.7 and will be removed in 1.0. Use invoke instead.\n",
      "  resposta_global = llm(prompt_global)\n"
     ]
    },
    {
     "name": "stdout",
     "output_type": "stream",
     "text": [
      "Analisando os requisitos fornecidos, podemos identificar alguns pontos importantes:\n",
      "\n",
      "1. **Requisitos que violam as regras fornecidas**: Não há informações suficientes sobre quais são as \"regras fornecidas\" para avaliar se algum requisito as viola. No entanto, podemos observar que os requisitos estão identificados por um código único (SYSRS-XXXX), o que sugere uma estrutura organizada, mas sem mais contexto, não é possível determinar violações específicas.\n",
      "\n",
      "2. **Redundâncias ou conflitos entre os requisitos**: Com base nos dados fornecidos, não é possível identificar redundâncias ou conflitos diretos entre os requisitos, pois a maioria dos campos está preenchida com \"NaN\", indicando que esses requisitos ainda estão em desenvolvimento ou revisão. No entanto, podemos notar que há uma sequência lógica nos códigos dos requisitos (SYSRS-00011, SYSRS-00012, etc.), o que sugere uma organização sistemática, mas sem o conteúdo completo, é difícil avaliar possíveis redundâncias ou conflitos.\n",
      "\n",
      "3. **Lacunas ou requisitos incompletos**: Sim, há várias lacunas e requisitos incompletos, como indicado pelos campos preenchidos com \"NaN\". Isso sugere que o processo de desenvolvimento dos requisitos ainda está em andamento ou que alguns requisitos precisam ser revisados ou completados. Uma melhoria sugerida seria priorizar a conclusão desses requisitos para ter uma visão completa do projeto. Além disso, garantir que cada requisito seja específico, mensurável, alcançável, relevante e temporamente definido (SMART) ajudaria a evitar ambiguidades.\n",
      "\n",
      "4. **Organização clara e consistente**: A estrutura dos requisitos, com códigos únicos e uma sequência lógica, sugere que há um esforço para manter a organização. No entanto, a presença de muitos campos \"NaN\" indica que o processo de desenvolvimento ou documentação dos requisitos não está completo. Para melhorar a clareza e consistência, seria útil:\n",
      "   - Concluir os requisitos pendentes.\n",
      "   - Estabelecer uma convenção de nomenclatura clara para os códigos dos requisitos.\n",
      "   - Garantir que cada requisito seja descrito de forma concisa e clara.\n",
      "   - Revisar periodicamente os requisitos para garantir que eles permanecem relevantes e alcançáveis ao longo do desenvolvimento do projeto.\n",
      "\n",
      "Em resumo, embora haja uma estrutura organizada para os requisitos, a falta de informações completas em muitos campos limita a capacidade de fazer uma análise detalhada. Concluir os requisitos pendentes e garantir que eles sejam SMART são passos cruciais para melhorar a clareza, consistência e eficácia dos requisitos do projeto.\n"
     ]
    }
   ],
   "source": [
    "prompt_global = f\"\"\"\n",
    "Você é um assistente especializado em análise de requisitos de software. Sua tarefa é avaliar os seguintes requisitos com base nas regras fornecidas abaixo:\n",
    "\n",
    "Regras: {regras} \n",
    "\n",
    "Requisitos a serem avaliados:\n",
    "{requisitos_texto}\n",
    "\n",
    "\n",
    "Os campos com \"NaN\" (Not a Number) são relativos a requisitos que ainda não estão completos ou estão sendo editados ainda, foque apenas nos requisitos completos. \n",
    "Por favor, faça uma análise geral dos requisitos e responda às seguintes perguntas:\n",
    "1. Há requisitos que violam as regras fornecidas? Liste-os e explique por quê.\n",
    "2. Há redundâncias ou conflitos entre os requisitos? Explique.\n",
    "3. Há lacunas ou requisitos incompletos? Sugira melhorias.\n",
    "4. Os requisitos estão organizados de forma clara e consistente? Comente.\n",
    "\"\"\"\n",
    "\n",
    "# Gerar resposta usando o modelo LLM\n",
    "resposta_global = llm(prompt_global)\n",
    "print(resposta_global)"
   ]
  },
  {
   "cell_type": "code",
   "execution_count": 16,
   "id": "077ca792-5b03-4794-9190-8c4e74e1fd19",
   "metadata": {},
   "outputs": [
    {
     "name": "stdout",
     "output_type": "stream",
     "text": [
      "Analisando os requisitos fornecidos, podemos identificar alguns pontos importantes:\n",
      "\n",
      "**1. Requisitos que violam as regras fornecidas:**\n",
      "\n",
      "Não há informações suficientes sobre quais são as \"regras fornecidas\" para avaliar se algum requisito as viola. No entanto, podemos observar que os requisitos estão identificados por um ID único (Req Id) e possuem uma descrição na coluna \"Requisito\". Não há evidências claras de violação de regras, mas a falta de contexto sobre essas regras impede uma análise mais profunda.\n",
      "\n",
      "**2. Redundâncias ou conflitos entre os requisitos:**\n",
      "\n",
      "Os requisitos listados parecem se referir a funcionalidades ou características específicas de um sistema, como \"Executar ultrassom\", \"Realizar exame de imagem\" e outros relacionados à captura e processamento de imagens médicas. Embora não haja redundâncias óbvias, alguns requisitos podem estar relacionados entre si (por exemplo, diferentes modos de operação ou configurações para o mesmo tipo de exame). No entanto, sem mais detalhes sobre cada requisito, é difícil identificar conflitos ou redundâncias com certeza.\n",
      "\n",
      "**3. Lacunas ou requisitos incompletos:**\n",
      "\n",
      "Sim, há uma grande quantidade de campos \"NaN\" (Not a Number), o que indica que muitos requisitos ainda não estão completos ou estão sendo editados. Isso sugere que o processo de elicitação e documentação dos requisitos está em andamento, mas ainda não foi concluído. Para melhorar, seria necessário completar esses requisitos com as informações necessárias, como descrições detalhadas do que cada requisito deve alcançar, critérios de aceitação claros, e possivelmente prioridades ou dependências entre os requisitos.\n",
      "\n",
      "**4. Organização clara e consistente:**\n",
      "\n",
      "A organização dos requisitos parece ser clara na medida em que cada requisito tem um ID único (Req Id) e uma descrição na coluna \"Requisito\". No entanto, a presença de muitos campos \"NaN\" sugere que o processo de documentação ainda não foi finalizado. Além disso, não há informações sobre como os requisitos estão categorizados ou agrupados (por exemplo, por funcionalidade, por tipo de usuário, etc.), o que poderia ajudar na navegação e compreensão dos requisitos. Uma abordagem mais consistente poderia envolver a criação de categorias ou tópicos para os requisitos, além de garantir que cada descrição de requisito seja concisa, clara e completa.\n",
      "\n",
      "Em resumo, embora os requisitos pareçam estar bem estruturados em termos de identificação única e descrição, a presença de muitos campos \"NaN\" indica que ainda há muito trabalho a ser feito para completar e refinar esses requisitos. Além disso, uma análise mais detalhada das relações entre os requisitos e a organização em categorias poderia ajudar a identificar possíveis redundâncias, conflitos ou lacunas.\n"
     ]
    }
   ],
   "source": [
    "from langchain.chains import LLMChain\n",
    "# Criar um template de prompt para análise de requisitos\n",
    "template = \"\"\"Você é um assistente especializado em análise de requisitos de software. Sua tarefa é avaliar os seguintes requisitos com base nas regras fornecidas abaixo:\n",
    "\n",
    "Regras: {regras} \n",
    "\n",
    "Requisitos a serem avaliados:\n",
    "{requisitos_texto}\n",
    "\n",
    "Os campos com \"NaN\" (Not a Number) são relativos a requisitos que ainda não estão completos ou estão sendo editados ainda, foque apenas nos requisitos completos. \n",
    "Por favor, faça uma análise de cada requisito identificado pelo Req Id e presente na coluna Requisito e responda às seguintes perguntas:\n",
    "1. Há requisitos que violam as regras fornecidas? Liste-os e explique por quê.\n",
    "2. Há redundâncias ou conflitos entre os requisitos? Explique.\n",
    "3. Há lacunas ou requisitos incompletos? Sugira melhorias.\n",
    "4. Os requisitos estão organizados de forma clara e consistente? Comente.\n",
    "\"\"\"\n",
    "\n",
    "prompt = PromptTemplate(input_variables=[\"regras\",\"requisitos_texto\"], template=template)\n",
    "\n",
    "# Criar a cadeia de análise\n",
    "chain = LLMChain(llm=llm, prompt=prompt)\n",
    "\n",
    "# Rodar a análise para os requisitos carregados\n",
    "response = chain.run(regras=regras, requisitos_texto=requisitos_texto)  # Testando com 5 requisitos\n",
    "\n",
    "print(response)  # Exibir a resposta do modelo"
   ]
  },
  {
   "cell_type": "code",
   "execution_count": null,
   "id": "cb227f5f-633e-4f73-bab4-45f9dbe1decb",
   "metadata": {},
   "outputs": [],
   "source": []
  },
  {
   "cell_type": "code",
   "execution_count": null,
   "id": "51d68880-31da-4d57-bfb3-1ce34cce8e93",
   "metadata": {},
   "outputs": [],
   "source": []
  },
  {
   "cell_type": "code",
   "execution_count": null,
   "id": "762a0ef5-e29f-4fa0-9e3b-2d52abe21f07",
   "metadata": {},
   "outputs": [],
   "source": []
  },
  {
   "cell_type": "code",
   "execution_count": null,
   "id": "ed0ebc7f-548f-4eca-9af3-714eb831b079",
   "metadata": {},
   "outputs": [],
   "source": []
  },
  {
   "cell_type": "code",
   "execution_count": null,
   "id": "f06abdef-0bd4-4d17-ad3c-e1794e3d45d4",
   "metadata": {},
   "outputs": [],
   "source": [
    "prompt_global = f\"\"\"\n",
    "Você é um assistente especializado montar requisitos, utilise as seguintes regras para isso:\n",
    "\n",
    "{regras}\n",
    "\n",
    "texto informação para montagem de requisitos:\n",
    "{requisitos_texto}\n",
    "\n",
    "Os campos com \"NaN\" (Not a Number) são relativos a requisitos que ainda não estão completos ou estão sendo editados ainda, foque apenas nos requisitos completos. \n",
    "Monte uma tabela com os requisitos de acordo com as regras estabelecidas\"\"\"\n",
    "\n",
    "# Gerar resposta usando o modelo LLM\n",
    "resposta_global = llm(prompt_global)\n",
    "print(resposta_global)"
   ]
  }
 ],
 "metadata": {
  "kernelspec": {
   "display_name": "Python 3 (ipykernel)",
   "language": "python",
   "name": "python3"
  },
  "language_info": {
   "codemirror_mode": {
    "name": "ipython",
    "version": 3
   },
   "file_extension": ".py",
   "mimetype": "text/x-python",
   "name": "python",
   "nbconvert_exporter": "python",
   "pygments_lexer": "ipython3",
   "version": "3.8.13"
  }
 },
 "nbformat": 4,
 "nbformat_minor": 5
}
