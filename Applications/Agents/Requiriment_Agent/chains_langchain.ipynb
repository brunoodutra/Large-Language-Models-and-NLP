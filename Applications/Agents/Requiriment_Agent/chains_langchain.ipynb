{
 "cells": [
  {
   "cell_type": "code",
   "execution_count": 1,
   "id": "37046a53-81a7-41c2-8914-14bc91c97d1f",
   "metadata": {},
   "outputs": [],
   "source": [
    "import os\n",
    "\n",
    "from dotenv import load_dotenv, find_dotenv\n",
    "\n",
    "from langchain.prompts import ChatPromptTemplate\n",
    "from langchain.chat_models import ChatOpenAI\n",
    "from langchain.schema.output_parser import StrOutputParser\n",
    "from langchain_ollama.llms import OllamaLLM\n",
    "from langchain.llms import Ollama\n"
   ]
  },
  {
   "cell_type": "markdown",
   "id": "c30721ca-e4a1-4c2a-8fd8-75bd0a08de84",
   "metadata": {},
   "source": [
    "## Simple Chain"
   ]
  },
  {
   "cell_type": "code",
   "execution_count": 2,
   "id": "fed557b7-3607-4d7f-a344-62973118fd33",
   "metadata": {},
   "outputs": [],
   "source": [
    "prompt = ChatPromptTemplate.from_template(\n",
    "    \"tell me a short joke about {topic}\"\n",
    ")\n",
    "model = Ollama(model=\"llama3.2:1b\", temperature=0)\n",
    "output_parser = StrOutputParser()"
   ]
  },
  {
   "cell_type": "code",
   "execution_count": 3,
   "id": "2726e461-c2b2-41ec-a52d-f91727f4e831",
   "metadata": {},
   "outputs": [],
   "source": [
    "chain = prompt | model | output_parser"
   ]
  },
  {
   "cell_type": "code",
   "execution_count": 4,
   "id": "f30e7b8a-3670-46d1-b785-4cdeeb1d7134",
   "metadata": {},
   "outputs": [
    {
     "data": {
      "text/plain": [
       "'Why did the bear go to the doctor?\\n\\nBecause it had a grizzly cough!'"
      ]
     },
     "execution_count": 4,
     "metadata": {},
     "output_type": "execute_result"
    }
   ],
   "source": [
    "chain.invoke({\"topic\": \"bears\"})"
   ]
  },
  {
   "cell_type": "markdown",
   "id": "05e2ba13-be1a-49be-aa32-b720510e75f8",
   "metadata": {},
   "source": [
    "## More complex chain\n",
    "\n",
    "And Runnable Map to supply user-provided inputs to the prompt."
   ]
  },
  {
   "cell_type": "code",
   "execution_count": 5,
   "id": "8bf5a881-f7ab-4629-84ae-78f50b1dc9ac",
   "metadata": {},
   "outputs": [],
   "source": [
    "from langchain_community.embeddings.ollama import OllamaEmbeddings\n",
    "from langchain.vectorstores import DocArrayInMemorySearch"
   ]
  },
  {
   "cell_type": "code",
   "execution_count": 6,
   "id": "e2c6760d-db22-4a24-a54b-a3ac9f6b224c",
   "metadata": {},
   "outputs": [
    {
     "name": "stderr",
     "output_type": "stream",
     "text": [
      "/opt/conda/lib/python3.8/site-packages/tqdm/auto.py:21: TqdmWarning: IProgress not found. Please update jupyter and ipywidgets. See https://ipywidgets.readthedocs.io/en/stable/user_install.html\n",
      "  from .autonotebook import tqdm as notebook_tqdm\n",
      "/opt/conda/lib/python3.8/site-packages/pydantic/_migration.py:283: UserWarning: `pydantic.error_wrappers:ValidationError` has been moved to `pydantic:ValidationError`.\n",
      "  warnings.warn(f'`{import_path}` has been moved to `{new_location}`.')\n"
     ]
    }
   ],
   "source": [
    "vectorstore = DocArrayInMemorySearch.from_texts(\n",
    "    [\"harrison worked at kensho\", \"bears like to eat honey\"],\n",
    "    embedding=OllamaEmbeddings(model=\"llama3.2:1b\" )\n",
    ")\n",
    "retriever = vectorstore.as_retriever()"
   ]
  },
  {
   "cell_type": "code",
   "execution_count": 7,
   "id": "2008a910-d39f-4fc9-a66c-90cbf46a7885",
   "metadata": {},
   "outputs": [
    {
     "name": "stderr",
     "output_type": "stream",
     "text": [
      "/tmp/ipykernel_27173/3310280720.py:1: LangChainDeprecationWarning: The method `BaseRetriever.get_relevant_documents` was deprecated in langchain-core 0.1.46 and will be removed in 1.0. Use invoke instead.\n",
      "  retriever.get_relevant_documents(\"where did harrison work?\")\n"
     ]
    },
    {
     "data": {
      "text/plain": [
       "[Document(page_content='harrison worked at kensho'),\n",
       " Document(page_content='bears like to eat honey')]"
      ]
     },
     "execution_count": 7,
     "metadata": {},
     "output_type": "execute_result"
    }
   ],
   "source": [
    "retriever.get_relevant_documents(\"where did harrison work?\")"
   ]
  },
  {
   "cell_type": "code",
   "execution_count": 8,
   "id": "94a18de9-2f24-4784-847f-1dd4b0f22a15",
   "metadata": {},
   "outputs": [
    {
     "data": {
      "text/plain": [
       "[Document(page_content='bears like to eat honey'),\n",
       " Document(page_content='harrison worked at kensho')]"
      ]
     },
     "execution_count": 8,
     "metadata": {},
     "output_type": "execute_result"
    }
   ],
   "source": [
    "retriever.get_relevant_documents(\"what do bears like to eat\")"
   ]
  },
  {
   "cell_type": "code",
   "execution_count": 9,
   "id": "431cacdd-c96e-4e88-bcb4-3fc7720f4c4e",
   "metadata": {},
   "outputs": [],
   "source": [
    "template = \"\"\"Answer the question based only on the following context:\n",
    "{context}\n",
    "\n",
    "Question: {question}\n",
    "\"\"\"\n",
    "prompt = ChatPromptTemplate.from_template(template)"
   ]
  },
  {
   "cell_type": "code",
   "execution_count": 10,
   "id": "0e742bc0-6be5-48e4-9d58-a5baffb6fe4d",
   "metadata": {},
   "outputs": [],
   "source": [
    "from langchain.schema.runnable import RunnableMap"
   ]
  },
  {
   "cell_type": "code",
   "execution_count": 11,
   "id": "4088785a-9d1a-423a-a23e-14b5c5eec923",
   "metadata": {},
   "outputs": [],
   "source": [
    "chain = RunnableMap({\n",
    "    \"context\": lambda x: retriever.get_relevant_documents(x[\"question\"]),\n",
    "    \"question\": lambda x: x[\"question\"]\n",
    "}) | prompt | model | output_parser"
   ]
  },
  {
   "cell_type": "code",
   "execution_count": 12,
   "id": "1a895f55-0bfd-41c1-8ff5-be2f15530421",
   "metadata": {},
   "outputs": [
    {
     "data": {
      "text/plain": [
       "'Based on the provided context, it can be inferred that Harrison worked at Kensho.'"
      ]
     },
     "execution_count": 12,
     "metadata": {},
     "output_type": "execute_result"
    }
   ],
   "source": [
    "chain.invoke({\"question\": \"where did harrison work?\"})"
   ]
  },
  {
   "cell_type": "code",
   "execution_count": 13,
   "id": "d264b133-428c-4df6-97c3-f3c3a08bb1d6",
   "metadata": {},
   "outputs": [
    {
     "data": {
      "text/plain": [
       "{'context': [Document(page_content='harrison worked at kensho'),\n",
       "  Document(page_content='bears like to eat honey')],\n",
       " 'question': 'where did harrison work?'}"
      ]
     },
     "execution_count": 13,
     "metadata": {},
     "output_type": "execute_result"
    }
   ],
   "source": [
    "inputs = RunnableMap({\n",
    "    \"context\": lambda x: retriever.get_relevant_documents(x[\"question\"]),\n",
    "    \"question\": lambda x: x[\"question\"]\n",
    "})\n",
    "\n",
    "inputs.invoke({\"question\": \"where did harrison work?\"})"
   ]
  },
  {
   "cell_type": "markdown",
   "id": "a1f128c7-93d0-4e67-afd8-a85f6a7175ad",
   "metadata": {},
   "source": [
    "## Bind\n"
   ]
  },
  {
   "cell_type": "code",
   "execution_count": 14,
   "id": "8c75fae5-c87a-4843-bbbf-f252c34b013f",
   "metadata": {},
   "outputs": [],
   "source": [
    "functions = [\n",
    "    {\n",
    "      \"name\": \"weather_search\",\n",
    "      \"description\": \"Search for weather given an airport code\",\n",
    "      \"parameters\": {\n",
    "        \"type\": \"object\",\n",
    "        \"properties\": {\n",
    "          \"airport_code\": {\n",
    "            \"type\": \"string\",\n",
    "            \"description\": \"The airport code to get the weather for\"\n",
    "          },\n",
    "        },\n",
    "        \"required\": [\"airport_code\"]\n",
    "      }\n",
    "    }\n",
    "  ]"
   ]
  },
  {
   "cell_type": "code",
   "execution_count": 15,
   "id": "3423ba3c-449b-40e1-9838-3daf5c7034b7",
   "metadata": {},
   "outputs": [],
   "source": [
    "prompt = ChatPromptTemplate.from_messages(\n",
    "    [\n",
    "        (\"human\", \"{input}\")\n",
    "    ]\n",
    ")\n",
    "model = Ollama(model=\"llama3.2:1b\",temperature=0).bind(functions=functions)"
   ]
  },
  {
   "cell_type": "code",
   "execution_count": 16,
   "id": "f5d06d30-54a4-4cff-941b-daf54e3c62a0",
   "metadata": {},
   "outputs": [],
   "source": [
    "runnable = prompt | model"
   ]
  },
  {
   "cell_type": "code",
   "execution_count": 17,
   "id": "630f6e45-f893-4db0-bab6-e3729506b990",
   "metadata": {},
   "outputs": [
    {
     "data": {
      "text/plain": [
       "\"As of my knowledge cutoff in March 2023, San Francisco's weather can be quite unpredictable and varied depending on the time of year. However, I can give you a general idea of what to expect.\\n\\nIn the winter months (December to February), San Francisco typically experiences mild temperatures, with average highs around 58°F (14°C) and lows around 45°F (7°C). It's not uncommon for there to be foggy mornings, especially in January and February. The city can also experience light rain showers throughout the month.\\n\\nIn the spring (March to May), San Francisco's weather is generally mild and pleasant, with average highs ranging from 64°F (18°C) to 73°F (23°C). The temperatures are usually warm enough for outdoor activities like hiking or biking, but it's still a good idea to pack layers for cooler mornings and evenings.\\n\\nSummer (June to August) in San Francisco is typically hot and dry, with average highs reaching the mid-80s to low 90s (29°C to 32°C). The temperatures can soar during heatwaves, especially in July and August. However, it's not uncommon for there to be some foggy mornings, especially in June.\\n\\nAutumn (September to November) is a great time to visit San Francisco, with comfortable temperatures ranging from 58°F (14°C) to 64°F (18°C). The city can experience light rain showers throughout the month, but it's still a good idea to pack layers for cooler mornings and evenings.\\n\\nOverall, San Francisco's weather can be quite variable, so it's always a good idea to check the forecast before heading out.\""
      ]
     },
     "execution_count": 17,
     "metadata": {},
     "output_type": "execute_result"
    }
   ],
   "source": [
    "runnable.invoke({\"input\": \"what is the weather in sf\"})"
   ]
  },
  {
   "cell_type": "code",
   "execution_count": null,
   "id": "713d6f9a-6274-4950-8caa-25f19db943a6",
   "metadata": {},
   "outputs": [],
   "source": []
  },
  {
   "cell_type": "code",
   "execution_count": 18,
   "id": "2ffa1a9c-bcf8-4c13-a806-251d1b96ee32",
   "metadata": {},
   "outputs": [],
   "source": [
    "functions = [\n",
    "    {\n",
    "      \"name\": \"weather_search\",\n",
    "      \"description\": \"Search for weather given an airport code\",\n",
    "      \"parameters\": {\n",
    "        \"type\": \"object\",\n",
    "        \"properties\": {\n",
    "          \"airport_code\": {\n",
    "            \"type\": \"string\",\n",
    "            \"description\": \"The airport code to get the weather for\"\n",
    "          },\n",
    "        },\n",
    "        \"required\": [\"airport_code\"]\n",
    "      }\n",
    "    },\n",
    "        {\n",
    "      \"name\": \"sports_search\",\n",
    "      \"description\": \"Search for news of recent sport events\",\n",
    "      \"parameters\": {\n",
    "        \"type\": \"object\",\n",
    "        \"properties\": {\n",
    "          \"team_name\": {\n",
    "            \"type\": \"string\",\n",
    "            \"description\": \"The sports team to search for\"\n",
    "          },\n",
    "        },\n",
    "        \"required\": [\"team_name\"]\n",
    "      }\n",
    "    }\n",
    "  ]"
   ]
  },
  {
   "cell_type": "code",
   "execution_count": 19,
   "id": "4d31b650-b1ce-4479-b60a-ac526f469aaf",
   "metadata": {},
   "outputs": [],
   "source": [
    "model = model.bind(functions=functions)"
   ]
  },
  {
   "cell_type": "code",
   "execution_count": 20,
   "id": "bc30077d-a7fe-44f3-b574-072a0e4aea4e",
   "metadata": {},
   "outputs": [],
   "source": [
    "runnable = prompt | model"
   ]
  },
  {
   "cell_type": "code",
   "execution_count": 21,
   "id": "5c207138-8748-41da-ba1c-63e9d0d339a5",
   "metadata": {},
   "outputs": [
    {
     "data": {
      "text/plain": [
       "\"I'm happy to help, but I don't have any information about a specific game or event involving the New England Patriots. However, I can tell you that the Patriots are a professional American football team that competes in the National Football League (NFL). If you're looking for information about their performance yesterday, I recommend checking out reputable sports news sources or the official NFL website for updates and analysis.\""
      ]
     },
     "execution_count": 21,
     "metadata": {},
     "output_type": "execute_result"
    }
   ],
   "source": [
    "runnable.invoke({\"input\": \"how did the patriots do yesterday?\"})"
   ]
  },
  {
   "cell_type": "markdown",
   "id": "e6fe20a8-f7f3-4148-b428-b544f6241063",
   "metadata": {},
   "source": [
    "## Fallbacks\n"
   ]
  },
  {
   "cell_type": "code",
   "execution_count": 22,
   "id": "5455a5b9-5920-40e0-944a-dca61dc4e83d",
   "metadata": {},
   "outputs": [],
   "source": [
    "import json\n",
    "simple_model = Ollama(model=\"llama3.2:1b\", temperature=0)\n",
    "\n",
    "simple_chain = simple_model | json.loads"
   ]
  },
  {
   "cell_type": "code",
   "execution_count": 23,
   "id": "542ae2b1-3331-4954-9ef0-389630c2c4c1",
   "metadata": {},
   "outputs": [],
   "source": [
    "challenge = \"write three poems in a json blob, where each poem is a json blob of a title, author, and first line, response with only json style\""
   ]
  },
  {
   "cell_type": "code",
   "execution_count": 24,
   "id": "4ff1893a-b89f-40b0-9a54-31f1de90f797",
   "metadata": {},
   "outputs": [
    {
     "data": {
      "text/plain": [
       "'```\\n[\\n  {\\n    \"title\": \"The Road Not Taken\",\\n    \"author\": \"Robert Frost\",\\n    \"firstLine\": \"Two roads diverged in a yellow wood\"\\n  },\\n  {\\n    \"title\": \"The Love Song of J. Alfred Prufrock\",\\n    \"author\": \"T.S. Eliot\",\\n    \"firstLine\": \"In the room the women come and go\"\\n  },\\n  {\\n    \"title\": \"Do Not Go Gentle into That Good Night\",\\n    \"author\": \"Dylan Thomas\",\\n    \"firstLine\": \"Rage, rage against the dying of the light\"\\n  }\\n]\\n```'"
      ]
     },
     "execution_count": 24,
     "metadata": {},
     "output_type": "execute_result"
    }
   ],
   "source": [
    "resp=simple_model.invoke(challenge)\n",
    "resp"
   ]
  },
  {
   "cell_type": "markdown",
   "id": "e1e57177-9bd3-448b-a453-0eef14e37a91",
   "metadata": {},
   "source": [
    "<p style=\\\"background-color:#F5C780; padding:15px\\\"><b>Note:</b> The next line is expected to fail.</p>"
   ]
  },
  {
   "cell_type": "code",
   "execution_count": 25,
   "id": "2b41fb22-e6ac-4b87-9a87-2493adbcfcba",
   "metadata": {},
   "outputs": [
    {
     "ename": "JSONDecodeError",
     "evalue": "Expecting value: line 1 column 1 (char 0)",
     "output_type": "error",
     "traceback": [
      "\u001b[0;31m---------------------------------------------------------------------------\u001b[0m",
      "\u001b[0;31mJSONDecodeError\u001b[0m                           Traceback (most recent call last)",
      "Input \u001b[0;32mIn [25]\u001b[0m, in \u001b[0;36m<cell line: 1>\u001b[0;34m()\u001b[0m\n\u001b[0;32m----> 1\u001b[0m \u001b[43msimple_chain\u001b[49m\u001b[38;5;241;43m.\u001b[39;49m\u001b[43minvoke\u001b[49m\u001b[43m(\u001b[49m\u001b[43mchallenge\u001b[49m\u001b[43m)\u001b[49m\n",
      "File \u001b[0;32m/opt/conda/lib/python3.8/site-packages/langchain_core/runnables/base.py:2879\u001b[0m, in \u001b[0;36mRunnableSequence.invoke\u001b[0;34m(self, input, config, **kwargs)\u001b[0m\n\u001b[1;32m   2877\u001b[0m             \u001b[38;5;28minput\u001b[39m \u001b[38;5;241m=\u001b[39m context\u001b[38;5;241m.\u001b[39mrun(step\u001b[38;5;241m.\u001b[39minvoke, \u001b[38;5;28minput\u001b[39m, config, \u001b[38;5;241m*\u001b[39m\u001b[38;5;241m*\u001b[39mkwargs)\n\u001b[1;32m   2878\u001b[0m         \u001b[38;5;28;01melse\u001b[39;00m:\n\u001b[0;32m-> 2879\u001b[0m             \u001b[38;5;28minput\u001b[39m \u001b[38;5;241m=\u001b[39m \u001b[43mcontext\u001b[49m\u001b[38;5;241;43m.\u001b[39;49m\u001b[43mrun\u001b[49m\u001b[43m(\u001b[49m\u001b[43mstep\u001b[49m\u001b[38;5;241;43m.\u001b[39;49m\u001b[43minvoke\u001b[49m\u001b[43m,\u001b[49m\u001b[43m \u001b[49m\u001b[38;5;28;43minput\u001b[39;49m\u001b[43m,\u001b[49m\u001b[43m \u001b[49m\u001b[43mconfig\u001b[49m\u001b[43m)\u001b[49m\n\u001b[1;32m   2880\u001b[0m \u001b[38;5;66;03m# finish the root run\u001b[39;00m\n\u001b[1;32m   2881\u001b[0m \u001b[38;5;28;01mexcept\u001b[39;00m \u001b[38;5;167;01mBaseException\u001b[39;00m \u001b[38;5;28;01mas\u001b[39;00m e:\n",
      "File \u001b[0;32m/opt/conda/lib/python3.8/site-packages/langchain_core/runnables/base.py:4475\u001b[0m, in \u001b[0;36mRunnableLambda.invoke\u001b[0;34m(self, input, config, **kwargs)\u001b[0m\n\u001b[1;32m   4461\u001b[0m \u001b[38;5;250m\u001b[39m\u001b[38;5;124;03m\"\"\"Invoke this Runnable synchronously.\u001b[39;00m\n\u001b[1;32m   4462\u001b[0m \n\u001b[1;32m   4463\u001b[0m \u001b[38;5;124;03mArgs:\u001b[39;00m\n\u001b[0;32m   (...)\u001b[0m\n\u001b[1;32m   4472\u001b[0m \u001b[38;5;124;03m    TypeError: If the Runnable is a coroutine function.\u001b[39;00m\n\u001b[1;32m   4473\u001b[0m \u001b[38;5;124;03m\"\"\"\u001b[39;00m\n\u001b[1;32m   4474\u001b[0m \u001b[38;5;28;01mif\u001b[39;00m \u001b[38;5;28mhasattr\u001b[39m(\u001b[38;5;28mself\u001b[39m, \u001b[38;5;124m\"\u001b[39m\u001b[38;5;124mfunc\u001b[39m\u001b[38;5;124m\"\u001b[39m):\n\u001b[0;32m-> 4475\u001b[0m     \u001b[38;5;28;01mreturn\u001b[39;00m \u001b[38;5;28;43mself\u001b[39;49m\u001b[38;5;241;43m.\u001b[39;49m\u001b[43m_call_with_config\u001b[49m\u001b[43m(\u001b[49m\n\u001b[1;32m   4476\u001b[0m \u001b[43m        \u001b[49m\u001b[38;5;28;43mself\u001b[39;49m\u001b[38;5;241;43m.\u001b[39;49m\u001b[43m_invoke\u001b[49m\u001b[43m,\u001b[49m\n\u001b[1;32m   4477\u001b[0m \u001b[43m        \u001b[49m\u001b[38;5;28;43minput\u001b[39;49m\u001b[43m,\u001b[49m\n\u001b[1;32m   4478\u001b[0m \u001b[43m        \u001b[49m\u001b[38;5;28;43mself\u001b[39;49m\u001b[38;5;241;43m.\u001b[39;49m\u001b[43m_config\u001b[49m\u001b[43m(\u001b[49m\u001b[43mconfig\u001b[49m\u001b[43m,\u001b[49m\u001b[43m \u001b[49m\u001b[38;5;28;43mself\u001b[39;49m\u001b[38;5;241;43m.\u001b[39;49m\u001b[43mfunc\u001b[49m\u001b[43m)\u001b[49m\u001b[43m,\u001b[49m\n\u001b[1;32m   4479\u001b[0m \u001b[43m        \u001b[49m\u001b[38;5;241;43m*\u001b[39;49m\u001b[38;5;241;43m*\u001b[39;49m\u001b[43mkwargs\u001b[49m\u001b[43m,\u001b[49m\n\u001b[1;32m   4480\u001b[0m \u001b[43m    \u001b[49m\u001b[43m)\u001b[49m\n\u001b[1;32m   4481\u001b[0m \u001b[38;5;28;01melse\u001b[39;00m:\n\u001b[1;32m   4482\u001b[0m     \u001b[38;5;28;01mraise\u001b[39;00m \u001b[38;5;167;01mTypeError\u001b[39;00m(\n\u001b[1;32m   4483\u001b[0m         \u001b[38;5;124m\"\u001b[39m\u001b[38;5;124mCannot invoke a coroutine function synchronously.\u001b[39m\u001b[38;5;124m\"\u001b[39m\n\u001b[1;32m   4484\u001b[0m         \u001b[38;5;124m\"\u001b[39m\u001b[38;5;124mUse `ainvoke` instead.\u001b[39m\u001b[38;5;124m\"\u001b[39m\n\u001b[1;32m   4485\u001b[0m     )\n",
      "File \u001b[0;32m/opt/conda/lib/python3.8/site-packages/langchain_core/runnables/base.py:1786\u001b[0m, in \u001b[0;36mRunnable._call_with_config\u001b[0;34m(self, func, input, config, run_type, serialized, **kwargs)\u001b[0m\n\u001b[1;32m   1782\u001b[0m     context \u001b[38;5;241m=\u001b[39m copy_context()\n\u001b[1;32m   1783\u001b[0m     context\u001b[38;5;241m.\u001b[39mrun(_set_config_context, child_config)\n\u001b[1;32m   1784\u001b[0m     output \u001b[38;5;241m=\u001b[39m cast(\n\u001b[1;32m   1785\u001b[0m         Output,\n\u001b[0;32m-> 1786\u001b[0m         \u001b[43mcontext\u001b[49m\u001b[38;5;241;43m.\u001b[39;49m\u001b[43mrun\u001b[49m\u001b[43m(\u001b[49m\n\u001b[1;32m   1787\u001b[0m \u001b[43m            \u001b[49m\u001b[43mcall_func_with_variable_args\u001b[49m\u001b[43m,\u001b[49m\u001b[43m  \u001b[49m\u001b[38;5;66;43;03m# type: ignore[arg-type]\u001b[39;49;00m\n\u001b[1;32m   1788\u001b[0m \u001b[43m            \u001b[49m\u001b[43mfunc\u001b[49m\u001b[43m,\u001b[49m\u001b[43m  \u001b[49m\u001b[38;5;66;43;03m# type: ignore[arg-type]\u001b[39;49;00m\n\u001b[1;32m   1789\u001b[0m \u001b[43m            \u001b[49m\u001b[38;5;28;43minput\u001b[39;49m\u001b[43m,\u001b[49m\u001b[43m  \u001b[49m\u001b[38;5;66;43;03m# type: ignore[arg-type]\u001b[39;49;00m\n\u001b[1;32m   1790\u001b[0m \u001b[43m            \u001b[49m\u001b[43mconfig\u001b[49m\u001b[43m,\u001b[49m\n\u001b[1;32m   1791\u001b[0m \u001b[43m            \u001b[49m\u001b[43mrun_manager\u001b[49m\u001b[43m,\u001b[49m\n\u001b[1;32m   1792\u001b[0m \u001b[43m            \u001b[49m\u001b[38;5;241;43m*\u001b[39;49m\u001b[38;5;241;43m*\u001b[39;49m\u001b[43mkwargs\u001b[49m\u001b[43m,\u001b[49m\n\u001b[1;32m   1793\u001b[0m \u001b[43m        \u001b[49m\u001b[43m)\u001b[49m,\n\u001b[1;32m   1794\u001b[0m     )\n\u001b[1;32m   1795\u001b[0m \u001b[38;5;28;01mexcept\u001b[39;00m \u001b[38;5;167;01mBaseException\u001b[39;00m \u001b[38;5;28;01mas\u001b[39;00m e:\n\u001b[1;32m   1796\u001b[0m     run_manager\u001b[38;5;241m.\u001b[39mon_chain_error(e)\n",
      "File \u001b[0;32m/opt/conda/lib/python3.8/site-packages/langchain_core/runnables/config.py:398\u001b[0m, in \u001b[0;36mcall_func_with_variable_args\u001b[0;34m(func, input, config, run_manager, **kwargs)\u001b[0m\n\u001b[1;32m    396\u001b[0m \u001b[38;5;28;01mif\u001b[39;00m run_manager \u001b[38;5;129;01mis\u001b[39;00m \u001b[38;5;129;01mnot\u001b[39;00m \u001b[38;5;28;01mNone\u001b[39;00m \u001b[38;5;129;01mand\u001b[39;00m accepts_run_manager(func):\n\u001b[1;32m    397\u001b[0m     kwargs[\u001b[38;5;124m\"\u001b[39m\u001b[38;5;124mrun_manager\u001b[39m\u001b[38;5;124m\"\u001b[39m] \u001b[38;5;241m=\u001b[39m run_manager\n\u001b[0;32m--> 398\u001b[0m \u001b[38;5;28;01mreturn\u001b[39;00m \u001b[43mfunc\u001b[49m\u001b[43m(\u001b[49m\u001b[38;5;28;43minput\u001b[39;49m\u001b[43m,\u001b[49m\u001b[43m \u001b[49m\u001b[38;5;241;43m*\u001b[39;49m\u001b[38;5;241;43m*\u001b[39;49m\u001b[43mkwargs\u001b[49m\u001b[43m)\u001b[49m\n",
      "File \u001b[0;32m/opt/conda/lib/python3.8/site-packages/langchain_core/runnables/base.py:4331\u001b[0m, in \u001b[0;36mRunnableLambda._invoke\u001b[0;34m(self, input, run_manager, config, **kwargs)\u001b[0m\n\u001b[1;32m   4329\u001b[0m                 output \u001b[38;5;241m=\u001b[39m chunk\n\u001b[1;32m   4330\u001b[0m \u001b[38;5;28;01melse\u001b[39;00m:\n\u001b[0;32m-> 4331\u001b[0m     output \u001b[38;5;241m=\u001b[39m \u001b[43mcall_func_with_variable_args\u001b[49m\u001b[43m(\u001b[49m\n\u001b[1;32m   4332\u001b[0m \u001b[43m        \u001b[49m\u001b[38;5;28;43mself\u001b[39;49m\u001b[38;5;241;43m.\u001b[39;49m\u001b[43mfunc\u001b[49m\u001b[43m,\u001b[49m\u001b[43m \u001b[49m\u001b[38;5;28;43minput\u001b[39;49m\u001b[43m,\u001b[49m\u001b[43m \u001b[49m\u001b[43mconfig\u001b[49m\u001b[43m,\u001b[49m\u001b[43m \u001b[49m\u001b[43mrun_manager\u001b[49m\u001b[43m,\u001b[49m\u001b[43m \u001b[49m\u001b[38;5;241;43m*\u001b[39;49m\u001b[38;5;241;43m*\u001b[39;49m\u001b[43mkwargs\u001b[49m\n\u001b[1;32m   4333\u001b[0m \u001b[43m    \u001b[49m\u001b[43m)\u001b[49m\n\u001b[1;32m   4334\u001b[0m \u001b[38;5;66;03m# If the output is a Runnable, invoke it\u001b[39;00m\n\u001b[1;32m   4335\u001b[0m \u001b[38;5;28;01mif\u001b[39;00m \u001b[38;5;28misinstance\u001b[39m(output, Runnable):\n",
      "File \u001b[0;32m/opt/conda/lib/python3.8/site-packages/langchain_core/runnables/config.py:398\u001b[0m, in \u001b[0;36mcall_func_with_variable_args\u001b[0;34m(func, input, config, run_manager, **kwargs)\u001b[0m\n\u001b[1;32m    396\u001b[0m \u001b[38;5;28;01mif\u001b[39;00m run_manager \u001b[38;5;129;01mis\u001b[39;00m \u001b[38;5;129;01mnot\u001b[39;00m \u001b[38;5;28;01mNone\u001b[39;00m \u001b[38;5;129;01mand\u001b[39;00m accepts_run_manager(func):\n\u001b[1;32m    397\u001b[0m     kwargs[\u001b[38;5;124m\"\u001b[39m\u001b[38;5;124mrun_manager\u001b[39m\u001b[38;5;124m\"\u001b[39m] \u001b[38;5;241m=\u001b[39m run_manager\n\u001b[0;32m--> 398\u001b[0m \u001b[38;5;28;01mreturn\u001b[39;00m \u001b[43mfunc\u001b[49m\u001b[43m(\u001b[49m\u001b[38;5;28;43minput\u001b[39;49m\u001b[43m,\u001b[49m\u001b[43m \u001b[49m\u001b[38;5;241;43m*\u001b[39;49m\u001b[38;5;241;43m*\u001b[39;49m\u001b[43mkwargs\u001b[49m\u001b[43m)\u001b[49m\n",
      "File \u001b[0;32m/opt/conda/lib/python3.8/json/__init__.py:357\u001b[0m, in \u001b[0;36mloads\u001b[0;34m(s, cls, object_hook, parse_float, parse_int, parse_constant, object_pairs_hook, **kw)\u001b[0m\n\u001b[1;32m    352\u001b[0m     \u001b[38;5;28;01mdel\u001b[39;00m kw[\u001b[38;5;124m'\u001b[39m\u001b[38;5;124mencoding\u001b[39m\u001b[38;5;124m'\u001b[39m]\n\u001b[1;32m    354\u001b[0m \u001b[38;5;28;01mif\u001b[39;00m (\u001b[38;5;28mcls\u001b[39m \u001b[38;5;129;01mis\u001b[39;00m \u001b[38;5;28;01mNone\u001b[39;00m \u001b[38;5;129;01mand\u001b[39;00m object_hook \u001b[38;5;129;01mis\u001b[39;00m \u001b[38;5;28;01mNone\u001b[39;00m \u001b[38;5;129;01mand\u001b[39;00m\n\u001b[1;32m    355\u001b[0m         parse_int \u001b[38;5;129;01mis\u001b[39;00m \u001b[38;5;28;01mNone\u001b[39;00m \u001b[38;5;129;01mand\u001b[39;00m parse_float \u001b[38;5;129;01mis\u001b[39;00m \u001b[38;5;28;01mNone\u001b[39;00m \u001b[38;5;129;01mand\u001b[39;00m\n\u001b[1;32m    356\u001b[0m         parse_constant \u001b[38;5;129;01mis\u001b[39;00m \u001b[38;5;28;01mNone\u001b[39;00m \u001b[38;5;129;01mand\u001b[39;00m object_pairs_hook \u001b[38;5;129;01mis\u001b[39;00m \u001b[38;5;28;01mNone\u001b[39;00m \u001b[38;5;129;01mand\u001b[39;00m \u001b[38;5;129;01mnot\u001b[39;00m kw):\n\u001b[0;32m--> 357\u001b[0m     \u001b[38;5;28;01mreturn\u001b[39;00m \u001b[43m_default_decoder\u001b[49m\u001b[38;5;241;43m.\u001b[39;49m\u001b[43mdecode\u001b[49m\u001b[43m(\u001b[49m\u001b[43ms\u001b[49m\u001b[43m)\u001b[49m\n\u001b[1;32m    358\u001b[0m \u001b[38;5;28;01mif\u001b[39;00m \u001b[38;5;28mcls\u001b[39m \u001b[38;5;129;01mis\u001b[39;00m \u001b[38;5;28;01mNone\u001b[39;00m:\n\u001b[1;32m    359\u001b[0m     \u001b[38;5;28mcls\u001b[39m \u001b[38;5;241m=\u001b[39m JSONDecoder\n",
      "File \u001b[0;32m/opt/conda/lib/python3.8/json/decoder.py:337\u001b[0m, in \u001b[0;36mJSONDecoder.decode\u001b[0;34m(self, s, _w)\u001b[0m\n\u001b[1;32m    332\u001b[0m \u001b[38;5;28;01mdef\u001b[39;00m\u001b[38;5;250m \u001b[39m\u001b[38;5;21mdecode\u001b[39m(\u001b[38;5;28mself\u001b[39m, s, _w\u001b[38;5;241m=\u001b[39mWHITESPACE\u001b[38;5;241m.\u001b[39mmatch):\n\u001b[1;32m    333\u001b[0m \u001b[38;5;250m    \u001b[39m\u001b[38;5;124;03m\"\"\"Return the Python representation of ``s`` (a ``str`` instance\u001b[39;00m\n\u001b[1;32m    334\u001b[0m \u001b[38;5;124;03m    containing a JSON document).\u001b[39;00m\n\u001b[1;32m    335\u001b[0m \n\u001b[1;32m    336\u001b[0m \u001b[38;5;124;03m    \"\"\"\u001b[39;00m\n\u001b[0;32m--> 337\u001b[0m     obj, end \u001b[38;5;241m=\u001b[39m \u001b[38;5;28;43mself\u001b[39;49m\u001b[38;5;241;43m.\u001b[39;49m\u001b[43mraw_decode\u001b[49m\u001b[43m(\u001b[49m\u001b[43ms\u001b[49m\u001b[43m,\u001b[49m\u001b[43m \u001b[49m\u001b[43midx\u001b[49m\u001b[38;5;241;43m=\u001b[39;49m\u001b[43m_w\u001b[49m\u001b[43m(\u001b[49m\u001b[43ms\u001b[49m\u001b[43m,\u001b[49m\u001b[43m \u001b[49m\u001b[38;5;241;43m0\u001b[39;49m\u001b[43m)\u001b[49m\u001b[38;5;241;43m.\u001b[39;49m\u001b[43mend\u001b[49m\u001b[43m(\u001b[49m\u001b[43m)\u001b[49m\u001b[43m)\u001b[49m\n\u001b[1;32m    338\u001b[0m     end \u001b[38;5;241m=\u001b[39m _w(s, end)\u001b[38;5;241m.\u001b[39mend()\n\u001b[1;32m    339\u001b[0m     \u001b[38;5;28;01mif\u001b[39;00m end \u001b[38;5;241m!=\u001b[39m \u001b[38;5;28mlen\u001b[39m(s):\n",
      "File \u001b[0;32m/opt/conda/lib/python3.8/json/decoder.py:355\u001b[0m, in \u001b[0;36mJSONDecoder.raw_decode\u001b[0;34m(self, s, idx)\u001b[0m\n\u001b[1;32m    353\u001b[0m     obj, end \u001b[38;5;241m=\u001b[39m \u001b[38;5;28mself\u001b[39m\u001b[38;5;241m.\u001b[39mscan_once(s, idx)\n\u001b[1;32m    354\u001b[0m \u001b[38;5;28;01mexcept\u001b[39;00m \u001b[38;5;167;01mStopIteration\u001b[39;00m \u001b[38;5;28;01mas\u001b[39;00m err:\n\u001b[0;32m--> 355\u001b[0m     \u001b[38;5;28;01mraise\u001b[39;00m JSONDecodeError(\u001b[38;5;124m\"\u001b[39m\u001b[38;5;124mExpecting value\u001b[39m\u001b[38;5;124m\"\u001b[39m, s, err\u001b[38;5;241m.\u001b[39mvalue) \u001b[38;5;28;01mfrom\u001b[39;00m\u001b[38;5;250m \u001b[39m\u001b[38;5;28;01mNone\u001b[39;00m\n\u001b[1;32m    356\u001b[0m \u001b[38;5;28;01mreturn\u001b[39;00m obj, end\n",
      "\u001b[0;31mJSONDecodeError\u001b[0m: Expecting value: line 1 column 1 (char 0)"
     ]
    }
   ],
   "source": [
    "simple_chain.invoke(challenge)"
   ]
  },
  {
   "cell_type": "code",
   "execution_count": 26,
   "id": "0e48a6a4-02a7-45c6-9221-e25c2772ed18",
   "metadata": {},
   "outputs": [],
   "source": [
    "from langchain.chains import TransformChain, LLMChain\n",
    "\n",
    "# Função para converter resposta em JSON\n",
    "def resp_to_json(resp):\n",
    "    limpa_string = resp.replace('```json', '').replace('```', '').strip()\n",
    "    try:\n",
    "        dados = json.loads(limpa_string)\n",
    "        return dados\n",
    "    except json.JSONDecodeError as e:\n",
    "        print(e)\n",
    "        return None\n",
    "\n",
    "# Usando TransformChain para aplicar o resp_to_json\n",
    "json_transform = TransformChain(\n",
    "    input_variables=[\"text\"],\n",
    "    output_variables=[\"json\"],\n",
    "    transform=lambda inputs: {\"json\": resp_to_json(inputs[\"text\"])}\n",
    ")"
   ]
  },
  {
   "cell_type": "code",
   "execution_count": 27,
   "id": "93eb58c5-1877-4aaa-9dd6-cc6fece0dddd",
   "metadata": {},
   "outputs": [
    {
     "data": {
      "text/plain": [
       "{'text': '```\\n{\\n  \"poems\": [\\n    {\\n      \"title\": \"The Road Not Taken\",\\n      \"author\": \"Robert Frost\",\\n      \"firstLine\": \"Two roads diverged in a yellow wood\"\\n    },\\n    {\\n      \"title\": \"The Love Song of J. Alfred Prufrock\",\\n      \"author\": \"T.S. Eliot\",\\n      \"firstLine\": \"Let us go then, you and I\"\\n    },\\n    {\\n      \"title\": \"Do Not Go Gentle into That Good Night\",\\n      \"author\": \"Dylan Thomas\",\\n      \"firstLine\": \"Do not go gentle into that good night\"\\n    }\\n  ]\\n}\\n```',\n",
       " 'json': {'poems': [{'title': 'The Road Not Taken',\n",
       "    'author': 'Robert Frost',\n",
       "    'firstLine': 'Two roads diverged in a yellow wood'},\n",
       "   {'title': 'The Love Song of J. Alfred Prufrock',\n",
       "    'author': 'T.S. Eliot',\n",
       "    'firstLine': 'Let us go then, you and I'},\n",
       "   {'title': 'Do Not Go Gentle into That Good Night',\n",
       "    'author': 'Dylan Thomas',\n",
       "    'firstLine': 'Do not go gentle into that good night'}]}}"
      ]
     },
     "execution_count": 27,
     "metadata": {},
     "output_type": "execute_result"
    }
   ],
   "source": [
    "model = Ollama(model=\"llama3.3:latest\", temperature=0)\n",
    "\n",
    "chain = model | StrOutputParser() | json_transform\n",
    "chain.invoke(challenge)"
   ]
  },
  {
   "cell_type": "code",
   "execution_count": 28,
   "id": "17461d79-7a3a-469f-b93a-88e64292a5bc",
   "metadata": {},
   "outputs": [
    {
     "data": {
      "text/plain": [
       "{'text': '```\\n{\\n  \"poems\": [\\n    {\\n      \"title\": \"The Road Not Taken\",\\n      \"author\": \"Robert Frost\",\\n      \"firstLine\": \"Two roads diverged in a yellow wood\"\\n    },\\n    {\\n      \"title\": \"The Love Song of J. Alfred Prufrock\",\\n      \"author\": \"T.S. Eliot\",\\n      \"firstLine\": \"Let us go then, you and I\"\\n    },\\n    {\\n      \"title\": \"Do Not Go Gentle into That Good Night\",\\n      \"author\": \"Dylan Thomas\",\\n      \"firstLine\": \"Do not go gentle into that good night\"\\n    }\\n  ]\\n}\\n```',\n",
       " 'json': {'poems': [{'title': 'The Road Not Taken',\n",
       "    'author': 'Robert Frost',\n",
       "    'firstLine': 'Two roads diverged in a yellow wood'},\n",
       "   {'title': 'The Love Song of J. Alfred Prufrock',\n",
       "    'author': 'T.S. Eliot',\n",
       "    'firstLine': 'Let us go then, you and I'},\n",
       "   {'title': 'Do Not Go Gentle into That Good Night',\n",
       "    'author': 'Dylan Thomas',\n",
       "    'firstLine': 'Do not go gentle into that good night'}]}}"
      ]
     },
     "execution_count": 28,
     "metadata": {},
     "output_type": "execute_result"
    }
   ],
   "source": [
    "final_chain = simple_chain.with_fallbacks([chain])\n",
    "final_chain.invoke(challenge)"
   ]
  },
  {
   "cell_type": "markdown",
   "id": "2d80d49f-9b1b-4fe2-a170-7b22a8dfd480",
   "metadata": {},
   "source": [
    "## Interface"
   ]
  },
  {
   "cell_type": "code",
   "execution_count": 29,
   "id": "c6cddcef-af9f-4e6c-9cdc-1db0552d9d7b",
   "metadata": {},
   "outputs": [],
   "source": [
    "prompt = ChatPromptTemplate.from_template(\n",
    "    \"Tell me a short joke about {topic}\"\n",
    ")\n",
    "\n",
    "output_parser = StrOutputParser()\n",
    "\n",
    "chain = prompt | model | output_parser"
   ]
  },
  {
   "cell_type": "code",
   "execution_count": 30,
   "id": "04de9b17-dd37-41cd-80a2-16674c85771d",
   "metadata": {},
   "outputs": [
    {
     "data": {
      "text/plain": [
       "'Why did the bear go to the doctor?\\n\\nBecause it had a grizzly cough!'"
      ]
     },
     "execution_count": 30,
     "metadata": {},
     "output_type": "execute_result"
    }
   ],
   "source": [
    "chain.invoke({\"topic\": \"bears\"})"
   ]
  },
  {
   "cell_type": "code",
   "execution_count": 31,
   "id": "31609afd-8911-462a-b2a0-87c3ac1086cd",
   "metadata": {},
   "outputs": [
    {
     "data": {
      "text/plain": [
       "['Why did the bear go to the doctor?\\n\\nBecause it had a grizzly cough!',\n",
       " 'Why did the frog go to the doctor?\\n\\nBecause it wasn\\'t feeling \"toad-ally\" well!']"
      ]
     },
     "execution_count": 31,
     "metadata": {},
     "output_type": "execute_result"
    }
   ],
   "source": [
    "chain.batch([{\"topic\": \"bears\"}, {\"topic\": \"frogs\"}])"
   ]
  },
  {
   "cell_type": "code",
   "execution_count": 32,
   "id": "cc98b4f6-e51e-4691-a029-711ca526093d",
   "metadata": {},
   "outputs": [],
   "source": [
    "response = await chain.ainvoke({\"topic\": \"bears\"})\n"
   ]
  },
  {
   "cell_type": "code",
   "execution_count": 33,
   "id": "249a747b-78a6-4460-97a3-bf393b9ea361",
   "metadata": {},
   "outputs": [
    {
     "name": "stdout",
     "output_type": "stream",
     "text": [
      "Why\n",
      " did\n",
      " the\n",
      " bear\n",
      " go\n",
      " to\n",
      " the\n",
      " doctor\n",
      "?\n",
      "\n",
      "\n",
      "Because\n",
      " it\n",
      " had\n",
      " a\n",
      " gr\n",
      "izzly\n",
      " cough\n",
      "!\n",
      "\n"
     ]
    }
   ],
   "source": [
    "for t in chain.stream({\"topic\": \"bears\"}):\n",
    "    print(t)"
   ]
  },
  {
   "cell_type": "markdown",
   "id": "c50ae137-efe8-4f2c-a1cd-62b9bd5bc457",
   "metadata": {},
   "source": [
    "## Pydantic  function definition"
   ]
  },
  {
   "cell_type": "code",
   "execution_count": 34,
   "id": "84f1e6fe-eb65-4a67-aa54-f1274e510868",
   "metadata": {},
   "outputs": [],
   "source": [
    "from dotenv import load_dotenv, find_dotenv\n",
    "_ = load_dotenv(find_dotenv()) # read local .env file\n",
    "from typing import List\n",
    "from pydantic import BaseModel, Field"
   ]
  },
  {
   "cell_type": "code",
   "execution_count": 37,
   "id": "6da7c532-0899-468d-b81e-e2394c432f42",
   "metadata": {},
   "outputs": [
    {
     "name": "stderr",
     "output_type": "stream",
     "text": [
      "/tmp/ipykernel_27173/3675743362.py:6: LangChainDeprecationWarning: The function `convert_pydantic_to_openai_function` was deprecated in LangChain 0.1.16 and will be removed in 1.0. Use langchain_core.utils.function_calling.convert_to_openai_function() instead.\n",
      "  weather_function = convert_pydantic_to_openai_function(WeatherSearch)\n"
     ]
    }
   ],
   "source": [
    "class WeatherSearch(BaseModel):\n",
    "    \"\"\"Call this with an airport code to get the weather at that airport\"\"\"\n",
    "    airport_code: str = Field(description=\"airport code to get weather for\")\n",
    "    \n",
    "from langchain.utils.openai_functions import convert_pydantic_to_openai_function\n",
    "weather_function = convert_pydantic_to_openai_function(WeatherSearch)"
   ]
  },
  {
   "cell_type": "code",
   "execution_count": 38,
   "id": "efe27f88-7eca-4bdb-b52a-1ba367a7eb1f",
   "metadata": {},
   "outputs": [
    {
     "data": {
      "text/plain": [
       "{'name': 'WeatherSearch',\n",
       " 'description': 'Call this with an airport code to get the weather at that airport',\n",
       " 'parameters': {'properties': {'airport_code': {'description': 'airport code to get weather for',\n",
       "    'type': 'string'}},\n",
       "  'required': ['airport_code'],\n",
       "  'type': 'object'}}"
      ]
     },
     "execution_count": 38,
     "metadata": {},
     "output_type": "execute_result"
    }
   ],
   "source": [
    "weather_function"
   ]
  },
  {
   "cell_type": "code",
   "execution_count": 40,
   "id": "3c0443fd-9119-47c8-a236-1a820b8af10e",
   "metadata": {},
   "outputs": [
    {
     "data": {
      "text/plain": [
       "{'name': 'WeatherSearch2',\n",
       " 'description': 'Call this with an airport code to get the weather at that airport',\n",
       " 'parameters': {'properties': {'airport_code': {'type': 'string'}},\n",
       "  'required': ['airport_code'],\n",
       "  'type': 'object'}}"
      ]
     },
     "execution_count": 40,
     "metadata": {},
     "output_type": "execute_result"
    }
   ],
   "source": [
    "class WeatherSearch2(BaseModel):\n",
    "    \"\"\"Call this with an airport code to get the weather at that airport\"\"\"\n",
    "    airport_code: str\n",
    "convert_pydantic_to_openai_function(WeatherSearch2)"
   ]
  },
  {
   "cell_type": "code",
   "execution_count": 41,
   "id": "c960b7a8-347f-44fa-be23-ec0d7def9692",
   "metadata": {},
   "outputs": [],
   "source": [
    "model = Ollama(model=\"llama3.2:1b\", temperature=0)\n"
   ]
  },
  {
   "cell_type": "code",
   "execution_count": 42,
   "id": "f407a363-520c-4cfe-8404-0885e87d0883",
   "metadata": {},
   "outputs": [
    {
     "data": {
      "text/plain": [
       "'I\\'m not aware of your current location. However, I can suggest some options to help you find out the weather in San Francisco.\\n\\nYou can:\\n\\n1. Check online weather websites such as AccuWeather, Weather.com, or the National Weather Service (NWS) for the most up-to-date forecast.\\n2. Use a search engine like Google to look up \"weather in San Francisco\" or \"San Francisco temperature today\".\\n3. Download a weather app on your smartphone, such as Dark Sky or Weather Underground, which can provide you with real-time weather information.\\n\\nPlease let me know if there\\'s anything else I can help you with.'"
      ]
     },
     "execution_count": 42,
     "metadata": {},
     "output_type": "execute_result"
    }
   ],
   "source": [
    "model.invoke(\"what is the weather in SF today?\", functions=[weather_function])"
   ]
  },
  {
   "cell_type": "code",
   "execution_count": 43,
   "id": "8c28ff21-291d-4659-a95c-4b8cd3dbb11c",
   "metadata": {},
   "outputs": [],
   "source": [
    "model_with_function = model.bind(functions=[weather_function])"
   ]
  },
  {
   "cell_type": "code",
   "execution_count": 44,
   "id": "988e27ea-4340-4067-bdf9-9a5fff8a6c05",
   "metadata": {},
   "outputs": [
    {
     "data": {
      "text/plain": [
       "\"San Francisco, California has a mild climate year-round. Here's an overview of the typical weather conditions:\\n\\n**Seasonal Weather Patterns:**\\n\\n* **Winter (December to February):** Mild and cool, with average highs around 58°F (14°C) and lows around 45°F (7°C). Expect occasional foggy mornings.\\n* **Spring (March to May):** Cool and breezy, with average highs around 63°F (17°C) and lows around 50°F (10°C). Spring is a great time to visit San Francisco, with mild weather and fewer tourists.\\n* **Summer (June to August):** Warm and sunny, with average highs around 73°F (23°C) and lows around 58°F (14°C). Summer is peak tourist season in San Francisco, but it can get crowded.\\n* **Autumn (September to November):** Mild and pleasant, with average highs around 68°F (20°C) and lows around 52°F (11°C). Autumn is a great time to visit San Francisco, with comfortable weather and fewer tourists.\\n\\n**Regional Weather Variations:**\\n\\n* **Coastal Areas:** The coastal areas of San Francisco, such as Fisherman's Wharf and Pier 39, tend to be cooler than the city center. Expect foggy mornings and warmer evenings.\\n* **Mountainous Areas:** The surrounding mountains, such as Mount Tamalpais and Mount Diablo, can experience colder temperatures and more precipitation than the city center.\\n* **Central Valley:** The Central Valley region of San Francisco is generally drier and hotter than the coastal areas.\\n\\n**Weather Extremes:**\\n\\n* **Fog:** San Francisco is known for its fog, which can roll in quickly. Expect foggy mornings, especially near the Golden Gate Bridge.\\n* **Rainfall:** San Francisco receives an average of 18 inches (457 mm) of rainfall per year, with most of it falling between November and March.\\n* **Heatwaves:** Summer heatwaves are rare in San Francisco, but they can occur during periods of high pressure.\\n\\n**Average Weather Data:**\\n\\n* Average temperature: 58°F (14°C)\\n* Average precipitation: 18 inches (457 mm)\\n* Average sunshine hours: 284 per year\\n* Average cloud cover: 64%\\n\\nKeep in mind that these are general weather patterns, and actual conditions can vary from year to year. It's always a good idea to check the latest forecast before your trip to San Francisco.\""
      ]
     },
     "execution_count": 44,
     "metadata": {},
     "output_type": "execute_result"
    }
   ],
   "source": [
    "model_with_function.invoke(\"what is the weather in sf?\")"
   ]
  },
  {
   "cell_type": "markdown",
   "id": "64502d21-df3d-4ec9-a054-5cc328a4cf49",
   "metadata": {},
   "source": [
    "## Forcing it to use a function\n",
    "\n",
    "We can force the model to use a function"
   ]
  },
  {
   "cell_type": "code",
   "execution_count": 46,
   "id": "d6f6af10-1a82-4dd0-8ae9-775c83b02b7e",
   "metadata": {},
   "outputs": [],
   "source": [
    "model_with_forced_function = model.bind(functions=[weather_function], function_call={\"name\":\"WeatherSearch\"})"
   ]
  },
  {
   "cell_type": "code",
   "execution_count": 47,
   "id": "ec9f4f74-8376-4264-9d25-4df7464d9331",
   "metadata": {},
   "outputs": [
    {
     "data": {
      "text/plain": [
       "\"San Francisco, California has a mild climate year-round. Here's an overview of the typical weather conditions:\\n\\n**Seasonal Weather Patterns:**\\n\\n* **Winter (December to February):** Mild and cool, with average highs around 58°F (14°C) and lows around 45°F (7°C). Expect occasional foggy mornings.\\n* **Spring (March to May):** Cool and breezy, with average highs around 65°F (18°C) and lows around 50°F (10°C). Spring is a great time to visit San Francisco, with mild weather and fewer tourists.\\n* **Summer (June to August):** Warm and sunny, with average highs around 75°F (24°C) and lows around 55°F (13°C). Summer is peak tourist season in San Francisco, but it can get crowded.\\n* **Autumn (September to November):** Mild and pleasant, with average highs around 65°F (18°C) and lows around 50°F (10°C). Autumn is a great time to visit San Francisco, with comfortable weather and fewer tourists.\\n\\n**Regional Weather Variations:**\\n\\n* **Coastal Areas:** The coastal areas of San Francisco, such as Fisherman's Wharf and Pier 39, tend to be cooler than the city center. Expect foggy mornings and warmer evenings.\\n* **Mountainous Areas:** The surrounding mountains, such as Mount Tamalpais and Mount Diablo, can experience colder temperatures and snowfall during winter months.\\n* **Central Valley:** The Central Valley region of San Francisco is generally warmer and drier than the coastal areas.\\n\\n**Weather Extremes:**\\n\\n* **Fog:** San Francisco is known for its fog, which can roll in quickly. Expect foggy mornings, especially near the Golden Gate Bridge.\\n* **Rainfall:** San Francisco receives an average of 18 inches (457 mm) of rainfall per year, with most of it falling between November and March.\\n* **Heatwaves:** While rare, heatwaves can occur during the summer months, with temperatures sometimes reaching over 100°F (38°C).\\n\\n**Average Weather Data:**\\n\\n* Average high temperature: 58°F (14°C)\\n* Average low temperature: 45°F (7°C)\\n* Average precipitation: 18 inches (457 mm)\\n* Average sunshine hours: 284 per year\\n* Average cloud cover: 60%\\n\\nKeep in mind that these are general weather patterns, and actual conditions can vary from year to year. It's always a good idea to check current weather forecasts before traveling to San Francisco.\""
      ]
     },
     "execution_count": 47,
     "metadata": {},
     "output_type": "execute_result"
    }
   ],
   "source": [
    "model_with_forced_function.invoke(\"what is the weather in sf?\")"
   ]
  },
  {
   "cell_type": "code",
   "execution_count": 48,
   "id": "fb4db5e9-f7e3-487d-8140-a515860d2194",
   "metadata": {},
   "outputs": [
    {
     "data": {
      "text/plain": [
       "'Hello! How can I help you today?'"
      ]
     },
     "execution_count": 48,
     "metadata": {},
     "output_type": "execute_result"
    }
   ],
   "source": [
    "model_with_forced_function.invoke(\"hi!\")"
   ]
  },
  {
   "cell_type": "markdown",
   "id": "6390dc84-1e2a-4e52-9504-971c4cef5192",
   "metadata": {},
   "source": [
    "## Using in a chain\n",
    "\n",
    "We can use this model bound to function in a chain as we normally would"
   ]
  },
  {
   "cell_type": "code",
   "execution_count": 49,
   "id": "c9b60176-4680-450d-bc67-37f8fbf4685f",
   "metadata": {},
   "outputs": [],
   "source": [
    "from langchain.prompts import ChatPromptTemplate"
   ]
  },
  {
   "cell_type": "code",
   "execution_count": 50,
   "id": "f9bc3d26-4587-402d-8473-fd34e9024c10",
   "metadata": {},
   "outputs": [],
   "source": [
    "prompt = ChatPromptTemplate.from_messages([\n",
    "    (\"system\", \"You are a helpful assistant\"),\n",
    "    (\"user\", \"{input}\")\n",
    "])"
   ]
  },
  {
   "cell_type": "code",
   "execution_count": 51,
   "id": "b86c0d32-d335-4698-ac71-335f5f6259b0",
   "metadata": {},
   "outputs": [],
   "source": [
    "chain = prompt | model_with_function"
   ]
  },
  {
   "cell_type": "code",
   "execution_count": 66,
   "id": "51826078-5296-476d-b33a-66b70026a12e",
   "metadata": {},
   "outputs": [
    {
     "data": {
      "text/plain": [
       "\"The weather in San Francisco, California. As of my knowledge cutoff in March 2023, the average high temperature in San Francisco during the summer months (June to August) is around 68°F (20°C), while the average low temperature is around 55°F (13°C).\\n\\nIn the winter months (December to February), the average high temperature is around 58°F (14°C), while the average low temperature is around 45°F (7°C). However, it's not uncommon for the weather in San Francisco to be quite unpredictable and change quickly.\\n\\nIt's also worth noting that San Francisco is known for its foggy climate, especially during the winter months. The city can experience fog rolling in from the Pacific Ocean as early as 5 am, and it can last until around 10 pm or midnight.\\n\\nIf you're planning a trip to San Francisco, I recommend checking the weather forecast before your trip to get a better idea of what to expect. You can check websites like AccuWeather or Weather.com for up-to-date forecasts and conditions.\""
      ]
     },
     "execution_count": 66,
     "metadata": {},
     "output_type": "execute_result"
    }
   ],
   "source": [
    "chain.invoke({\"input\": \"what is the weather in sf?\"})"
   ]
  },
  {
   "cell_type": "markdown",
   "id": "2bd03409-0944-4447-8ba5-694ba526e1e3",
   "metadata": {},
   "source": [
    "## Using multiple functions\n",
    "\n",
    "Even better, we can pass a set of function and let the LLM decide which to use based on the question context."
   ]
  },
  {
   "cell_type": "code",
   "execution_count": 67,
   "id": "ef2bc5d7-603b-45a8-8418-0b50fe575e71",
   "metadata": {},
   "outputs": [],
   "source": [
    "class ArtistSearch(BaseModel):\n",
    "    \"\"\"Call this to get the names of songs by a particular artist\"\"\"\n",
    "    artist_name: str = Field(description=\"name of artist to look up\")\n",
    "    n: int = Field(description=\"number of results\")"
   ]
  },
  {
   "cell_type": "code",
   "execution_count": 68,
   "id": "f38216c5-5e82-4390-9897-3fc0b834a038",
   "metadata": {},
   "outputs": [],
   "source": [
    "functions = [\n",
    "    convert_pydantic_to_openai_function(WeatherSearch),\n",
    "    convert_pydantic_to_openai_function(ArtistSearch),\n",
    "]"
   ]
  },
  {
   "cell_type": "code",
   "execution_count": 69,
   "id": "3cbf5c94-17f0-4fae-9cd5-6346d334f89f",
   "metadata": {},
   "outputs": [],
   "source": [
    "model_with_functions = model.bind(functions=functions)"
   ]
  },
  {
   "cell_type": "code",
   "execution_count": 70,
   "id": "490b79c2-2ba4-431a-9533-61ffaf30456d",
   "metadata": {},
   "outputs": [
    {
     "data": {
      "text/plain": [
       "\"San Francisco, California has a mild climate year-round. Here's an overview of the typical weather conditions:\\n\\n**Seasonal Weather Patterns:**\\n\\n* **Winter (December to February):** Mild and cool, with average highs around 58°F (14°C) and lows around 45°F (7°C). Expect occasional foggy mornings.\\n* **Spring (March to May):** Cool and breezy, with average highs around 65°F (18°C) and lows around 50°F (10°C). Spring is a great time to visit San Francisco, with mild weather and fewer tourists.\\n* **Summer (June to August):** Warm and sunny, with average highs around 75°F (24°C) and lows around 55°F (13°C). Summer is peak tourist season in San Francisco.\\n* **Autumn (September to November):** Mild and pleasant, with average highs around 65°F (18°C) and lows around 50°F (10°C). Autumn is a great time to visit San Francisco, with comfortable weather and fewer crowds.\\n\\n**Regional Weather Variations:**\\n\\n* **Coastal Areas:** The coastal areas of San Francisco, such as Fisherman's Wharf and Pier 39, tend to be cooler than the city center. Expect foggy mornings and warmer evenings.\\n* **Mountainous Areas:** The surrounding mountains, like Mount Tamalpais and Mount Diablo, can experience colder temperatures and more precipitation than the city.\\n* **Central Valley:** The Central Valley region of San Francisco is generally drier and hotter than the coastal areas.\\n\\n**Weather Extremes:**\\n\\n* **Fog:** San Francisco is known for its fog, which can roll in quickly. Expect foggy mornings, especially near the Golden Gate Bridge.\\n* **Rainfall:** San Francisco receives an average of 18 inches (457 mm) of rainfall per year, with most of it falling between November and March.\\n* **Heatwaves:** Summer heatwaves are rare in San Francisco, but they can occur during periods of high pressure.\\n\\n**Average Weather Data:**\\n\\n* Average temperature: 58°F (14°C)\\n* Average precipitation: 18 inches (457 mm)\\n* Average sunshine hours: 284 per year\\n* Average cloud cover: 60%\\n\\nKeep in mind that these are general weather patterns, and actual conditions can vary from year to year. It's always a good idea to check current weather forecasts before your trip to San Francisco.\""
      ]
     },
     "execution_count": 70,
     "metadata": {},
     "output_type": "execute_result"
    }
   ],
   "source": [
    "model_with_functions.invoke(\"what is the weather in sf?\")"
   ]
  },
  {
   "cell_type": "code",
   "execution_count": 71,
   "id": "96e00234-43eb-4e27-b63e-eb58eb45e6ea",
   "metadata": {},
   "outputs": [
    {
     "data": {
      "text/plain": [
       "'Here are three songs by Taylor Swift:\\n\\n1. \"Shake It Off\"\\n2. \"Blank Space\"\\n3. \"Love Story\"'"
      ]
     },
     "execution_count": 71,
     "metadata": {},
     "output_type": "execute_result"
    }
   ],
   "source": [
    "model_with_functions.invoke(\"what are three songs by taylor swift?\")"
   ]
  },
  {
   "cell_type": "code",
   "execution_count": 72,
   "id": "f26960c6-2e21-4009-94a6-01c66a3f733f",
   "metadata": {},
   "outputs": [
    {
     "data": {
      "text/plain": [
       "'Hello! How can I help you today?'"
      ]
     },
     "execution_count": 72,
     "metadata": {},
     "output_type": "execute_result"
    }
   ],
   "source": [
    "model_with_functions.invoke(\"hi!\")"
   ]
  },
  {
   "cell_type": "code",
   "execution_count": 73,
   "id": "d35d60b7-2ea6-4d0a-b4f3-0de176778c61",
   "metadata": {},
   "outputs": [
    {
     "data": {
      "text/plain": [
       "RunnableBinding(bound=Ollama(model='llama3.2:1b', temperature=0.0), kwargs={'functions': [{'name': 'WeatherSearch', 'description': 'Call this with an airport code to get the weather at that airport', 'parameters': {'properties': {'airport_code': {'description': 'airport code to get weather for', 'type': 'string'}}, 'required': ['airport_code'], 'type': 'object'}}, {'name': 'ArtistSearch', 'description': 'Call this to get the names of songs by a particular artist', 'parameters': {'properties': {'artist_name': {'description': 'name of artist to look up', 'type': 'string'}, 'n': {'description': 'number of results', 'type': 'integer'}}, 'required': ['artist_name', 'n'], 'type': 'object'}}]})"
      ]
     },
     "execution_count": 73,
     "metadata": {},
     "output_type": "execute_result"
    }
   ],
   "source": [
    "model_with_functions"
   ]
  },
  {
   "cell_type": "code",
   "execution_count": null,
   "id": "ba6e9869-7ffe-4897-a3e9-ed33273a7eee",
   "metadata": {},
   "outputs": [],
   "source": []
  }
 ],
 "metadata": {
  "kernelspec": {
   "display_name": "Python 3 (ipykernel)",
   "language": "python",
   "name": "python3"
  },
  "language_info": {
   "codemirror_mode": {
    "name": "ipython",
    "version": 3
   },
   "file_extension": ".py",
   "mimetype": "text/x-python",
   "name": "python",
   "nbconvert_exporter": "python",
   "pygments_lexer": "ipython3",
   "version": "3.8.13"
  }
 },
 "nbformat": 4,
 "nbformat_minor": 5
}
